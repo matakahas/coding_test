{
  "nbformat": 4,
  "nbformat_minor": 0,
  "metadata": {
    "colab": {
      "name": "reddit_scraping.ipynb",
      "provenance": [],
      "collapsed_sections": []
    },
    "kernelspec": {
      "name": "python3",
      "display_name": "Python 3"
    },
    "language_info": {
      "name": "python"
    }
  },
  "cells": [
    {
      "cell_type": "markdown",
      "source": [
        "**Reddit scraping project** \\\\\n",
        "In this project, I will scrape the subreddit r/EDAnonymous and try different ML models to see whether they can predict the \"flair\" (tag) on posts. "
      ],
      "metadata": {
        "id": "0QlHBr-njtds"
      }
    },
    {
      "cell_type": "markdown",
      "source": [
        "#required packages"
      ],
      "metadata": {
        "id": "JDbwIgunkQev"
      }
    },
    {
      "cell_type": "code",
      "execution_count": null,
      "metadata": {
        "id": "HaDt_3uGorkF"
      },
      "outputs": [],
      "source": [
        "!pip install praw #official python reddit API wrapper\n",
        "!python -m spacy download en_core_web_md"
      ]
    },
    {
      "cell_type": "code",
      "source": [
        "import praw\n",
        "import numpy as np\n",
        "import pandas as pd\n",
        "import re\n",
        "import nltk\n",
        "nltk.download('stopwords')\n",
        "from nltk.corpus import stopwords\n",
        "import string\n",
        "import spacy\n",
        "import warnings\n",
        "warnings.filterwarnings('ignore')\n",
        "\n",
        "nlp = spacy.load(\"en_core_web_md\")\n",
        "\n",
        "import torch\n",
        "from sklearn.model_selection import train_test_split\n",
        "from sklearn.feature_extraction.text import CountVectorizer\n",
        "from sklearn import metrics\n",
        "from sklearn.pipeline import Pipeline\n",
        "from sklearn.feature_extraction.text import TfidfVectorizer\n",
        "from sklearn.svm import LinearSVC\n",
        "from sklearn.feature_selection import chi2"
      ],
      "metadata": {
        "id": "X0Y-sa06KBoJ"
      },
      "execution_count": 21,
      "outputs": []
    },
    {
      "cell_type": "markdown",
      "source": [
        "#scraping"
      ],
      "metadata": {
        "id": "7LpeD1blJK2Y"
      }
    },
    {
      "cell_type": "code",
      "source": [
        "# Read-only instance\n",
        "reddit_read_only = praw.Reddit(client_id=\"your client id\",\n",
        "                               client_secret=\"your client secret\",\n",
        "                               user_agent=\"your user agent\")"
      ],
      "metadata": {
        "id": "FzD0TQxmo72n"
      },
      "execution_count": 2,
      "outputs": []
    },
    {
      "cell_type": "code",
      "source": [
        "subreddit = reddit_read_only.subreddit(\"EDAnonymous\")"
      ],
      "metadata": {
        "id": "FDOZ0lZLuDDc"
      },
      "execution_count": 3,
      "outputs": []
    },
    {
      "cell_type": "markdown",
      "source": [
        "The code below scrapes the top 1000 posts of the current month, and stores relevant information to the dictionary"
      ],
      "metadata": {
        "id": "TX1jTAlN-fua"
      }
    },
    {
      "cell_type": "code",
      "source": [
        "sub_limit = 1000\n",
        "posts = subreddit.top(\"month\", limit=sub_limit)\n",
        " \n",
        "posts_dict = {\"Title\": [], \"Post Text\": [],\n",
        "              \"Flair\": [], \"Score\": [],\n",
        "              \"Total Comments\": [], \"Post URL\": []\n",
        "              }\n",
        " \n",
        "for post in posts:\n",
        "    # Title of each post\n",
        "    posts_dict[\"Title\"].append(post.title)\n",
        "     \n",
        "    # Text inside a post\n",
        "    posts_dict[\"Post Text\"].append(post.selftext)\n",
        "     \n",
        "    # Unique ID of each post\n",
        "    posts_dict[\"Flair\"].append(post.link_flair_text)\n",
        "     \n",
        "    # The score of a post\n",
        "    posts_dict[\"Score\"].append(post.score)\n",
        "     \n",
        "    # Total number of comments inside the post\n",
        "    posts_dict[\"Total Comments\"].append(post.num_comments)\n",
        "     \n",
        "    # URL of each post\n",
        "    posts_dict[\"Post URL\"].append(post.url)\n",
        " \n",
        "# Saving the data in a pandas dataframe\n",
        "top_posts = pd.DataFrame(posts_dict)"
      ],
      "metadata": {
        "id": "VOjNxIyCu3mb"
      },
      "execution_count": null,
      "outputs": []
    },
    {
      "cell_type": "code",
      "source": [
        "data = {'Text': top_posts['Title'] + ' ' + top_posts['Post Text'], 'Flair': top_posts['Flair']}\n",
        "df = pd.DataFrame(data=data)\n",
        "df.head()"
      ],
      "metadata": {
        "colab": {
          "base_uri": "https://localhost:8080/",
          "height": 206
        },
        "id": "jJDdY18X5ufW",
        "outputId": "f3fb40e9-d048-4565-c4d3-89ee45e62291"
      },
      "execution_count": 8,
      "outputs": [
        {
          "output_type": "execute_result",
          "data": {
            "text/html": [
              "\n",
              "  <div id=\"df-b248af89-aaac-4152-b07e-c73d7ad0d798\">\n",
              "    <div class=\"colab-df-container\">\n",
              "      <div>\n",
              "<style scoped>\n",
              "    .dataframe tbody tr th:only-of-type {\n",
              "        vertical-align: middle;\n",
              "    }\n",
              "\n",
              "    .dataframe tbody tr th {\n",
              "        vertical-align: top;\n",
              "    }\n",
              "\n",
              "    .dataframe thead th {\n",
              "        text-align: right;\n",
              "    }\n",
              "</style>\n",
              "<table border=\"1\" class=\"dataframe\">\n",
              "  <thead>\n",
              "    <tr style=\"text-align: right;\">\n",
              "      <th></th>\n",
              "      <th>Text</th>\n",
              "      <th>Flair</th>\n",
              "    </tr>\n",
              "  </thead>\n",
              "  <tbody>\n",
              "    <tr>\n",
              "      <th>0</th>\n",
              "      <td>hot take: we need to stop acting like asking s...</td>\n",
              "      <td>Rant / Rave</td>\n",
              "    </tr>\n",
              "    <tr>\n",
              "      <th>1</th>\n",
              "      <td>Is it weird my safe foods tend to be things li...</td>\n",
              "      <td>Discussion</td>\n",
              "    </tr>\n",
              "    <tr>\n",
              "      <th>2</th>\n",
              "      <td>is sweating like crazy related to ed? i ate a ...</td>\n",
              "      <td>Discussion</td>\n",
              "    </tr>\n",
              "    <tr>\n",
              "      <th>3</th>\n",
              "      <td>Does anyone else have random \"fuck my ed\" meal...</td>\n",
              "      <td>Discussion</td>\n",
              "    </tr>\n",
              "    <tr>\n",
              "      <th>4</th>\n",
              "      <td>Fighting for my life on the toilet I am MORTIF...</td>\n",
              "      <td>oh no</td>\n",
              "    </tr>\n",
              "  </tbody>\n",
              "</table>\n",
              "</div>\n",
              "      <button class=\"colab-df-convert\" onclick=\"convertToInteractive('df-b248af89-aaac-4152-b07e-c73d7ad0d798')\"\n",
              "              title=\"Convert this dataframe to an interactive table.\"\n",
              "              style=\"display:none;\">\n",
              "        \n",
              "  <svg xmlns=\"http://www.w3.org/2000/svg\" height=\"24px\"viewBox=\"0 0 24 24\"\n",
              "       width=\"24px\">\n",
              "    <path d=\"M0 0h24v24H0V0z\" fill=\"none\"/>\n",
              "    <path d=\"M18.56 5.44l.94 2.06.94-2.06 2.06-.94-2.06-.94-.94-2.06-.94 2.06-2.06.94zm-11 1L8.5 8.5l.94-2.06 2.06-.94-2.06-.94L8.5 2.5l-.94 2.06-2.06.94zm10 10l.94 2.06.94-2.06 2.06-.94-2.06-.94-.94-2.06-.94 2.06-2.06.94z\"/><path d=\"M17.41 7.96l-1.37-1.37c-.4-.4-.92-.59-1.43-.59-.52 0-1.04.2-1.43.59L10.3 9.45l-7.72 7.72c-.78.78-.78 2.05 0 2.83L4 21.41c.39.39.9.59 1.41.59.51 0 1.02-.2 1.41-.59l7.78-7.78 2.81-2.81c.8-.78.8-2.07 0-2.86zM5.41 20L4 18.59l7.72-7.72 1.47 1.35L5.41 20z\"/>\n",
              "  </svg>\n",
              "      </button>\n",
              "      \n",
              "  <style>\n",
              "    .colab-df-container {\n",
              "      display:flex;\n",
              "      flex-wrap:wrap;\n",
              "      gap: 12px;\n",
              "    }\n",
              "\n",
              "    .colab-df-convert {\n",
              "      background-color: #E8F0FE;\n",
              "      border: none;\n",
              "      border-radius: 50%;\n",
              "      cursor: pointer;\n",
              "      display: none;\n",
              "      fill: #1967D2;\n",
              "      height: 32px;\n",
              "      padding: 0 0 0 0;\n",
              "      width: 32px;\n",
              "    }\n",
              "\n",
              "    .colab-df-convert:hover {\n",
              "      background-color: #E2EBFA;\n",
              "      box-shadow: 0px 1px 2px rgba(60, 64, 67, 0.3), 0px 1px 3px 1px rgba(60, 64, 67, 0.15);\n",
              "      fill: #174EA6;\n",
              "    }\n",
              "\n",
              "    [theme=dark] .colab-df-convert {\n",
              "      background-color: #3B4455;\n",
              "      fill: #D2E3FC;\n",
              "    }\n",
              "\n",
              "    [theme=dark] .colab-df-convert:hover {\n",
              "      background-color: #434B5C;\n",
              "      box-shadow: 0px 1px 3px 1px rgba(0, 0, 0, 0.15);\n",
              "      filter: drop-shadow(0px 1px 2px rgba(0, 0, 0, 0.3));\n",
              "      fill: #FFFFFF;\n",
              "    }\n",
              "  </style>\n",
              "\n",
              "      <script>\n",
              "        const buttonEl =\n",
              "          document.querySelector('#df-b248af89-aaac-4152-b07e-c73d7ad0d798 button.colab-df-convert');\n",
              "        buttonEl.style.display =\n",
              "          google.colab.kernel.accessAllowed ? 'block' : 'none';\n",
              "\n",
              "        async function convertToInteractive(key) {\n",
              "          const element = document.querySelector('#df-b248af89-aaac-4152-b07e-c73d7ad0d798');\n",
              "          const dataTable =\n",
              "            await google.colab.kernel.invokeFunction('convertToInteractive',\n",
              "                                                     [key], {});\n",
              "          if (!dataTable) return;\n",
              "\n",
              "          const docLinkHtml = 'Like what you see? Visit the ' +\n",
              "            '<a target=\"_blank\" href=https://colab.research.google.com/notebooks/data_table.ipynb>data table notebook</a>'\n",
              "            + ' to learn more about interactive tables.';\n",
              "          element.innerHTML = '';\n",
              "          dataTable['output_type'] = 'display_data';\n",
              "          await google.colab.output.renderOutput(dataTable, element);\n",
              "          const docLink = document.createElement('div');\n",
              "          docLink.innerHTML = docLinkHtml;\n",
              "          element.appendChild(docLink);\n",
              "        }\n",
              "      </script>\n",
              "    </div>\n",
              "  </div>\n",
              "  "
            ],
            "text/plain": [
              "                                                Text        Flair\n",
              "0  hot take: we need to stop acting like asking s...  Rant / Rave\n",
              "1  Is it weird my safe foods tend to be things li...   Discussion\n",
              "2  is sweating like crazy related to ed? i ate a ...   Discussion\n",
              "3  Does anyone else have random \"fuck my ed\" meal...   Discussion\n",
              "4  Fighting for my life on the toilet I am MORTIF...        oh no"
            ]
          },
          "metadata": {},
          "execution_count": 8
        }
      ]
    },
    {
      "cell_type": "code",
      "source": [
        "df['Text'].tolist()[:5]"
      ],
      "metadata": {
        "colab": {
          "base_uri": "https://localhost:8080/"
        },
        "id": "joVfz-2aCYio",
        "outputId": "0a0cbcfe-bc0a-43b3-92d3-4dafaff512b6"
      },
      "execution_count": 6,
      "outputs": [
        {
          "output_type": "execute_result",
          "data": {
            "text/plain": [
              "['hot take: we need to stop acting like asking someone if they have an ed is A Terrible Thing let me explain a little here\\n\\nthere is an obviously disordered youtuber. it honestly doesnt matter who she is and her videos are boring as fuck u wouldn\\'t like them. the main point is that she is extremely uw and has very strict food rules and anyone who wouldn\\'t think \"hmmm this does not seem like a normal or healthy diet\" when watching her videos literally does not have their brain turned on. \\n\\nbut if u suggest it in her comments, or even on the comments of a video specifically pointing out how fucked up her eating is, there is always someone who will respond \"u dont know her, how dare u accuse her of something like that\" \\n\\naccuse her of something like what? an eating disorder? that she exhibits many symptoms of? and that affects nearly 10% or 30 million americans in their lifetime? this is the terrible, unspeakable thing we cant possibly accuse her of? what the fuck? \\n\\nlike can u imagine if an influencer just pounded shots of vodka during all their videos but if anyone commented \\'yooo do u have a drinking problem bc this is not healthy\\' and everyone responded like \\'how dare u, u dont know her\\' like sure i dont but i have eyes and a brain and im watching this content rn and she is clearly drinking way too much way too often. \\n\\n&#x200B;\\n\\ni havent put much thought into this beyond watching the video and then typing this post rn so opposing views welcome',\n",
              " \"Is it weird my safe foods tend to be things like chicken nuggets and pizza rolls? They aren't white cheddar rice cakes or anything, but I love how easy it is to just count how many I'm making for when I am obsessively tracking calories\",\n",
              " 'is sweating like crazy related to ed? i ate a normal meal yesterday night after not eating almost anything for a long time. When i went to bed, i woke up at 3am and was sweating like crazy. like, i was wetting the bed from sweat. My hair was wet from sweat too. My ac was on, but still, i was so fcking hotttttt \\n i drank some water that was beside me and went back to sleep. Some time after I woke up again and was still so hot, still sweating. My room was cold af \\nis it related to my ed?',\n",
              " 'Does anyone else have random \"fuck my ed\" meals? Basically like a random meal you eat because you\\'re hungry (so normal eating lol). Like last night I\\'d already had three (small) meals but I was really hungry cause I went for a long run so I had some chocolate peanut butter oatmeal. I even added extra dark chocolate chips and didn\\'t measure the pb! It was probably pretty high cal but it was also decently healthy and I didn\\'t regret it when I went to sleep. The weird thing though is the next morning (today) I was straight back to restricting. It\\'s like whatever mini glimpse of recovery I had went away.',\n",
              " 'Fighting for my life on the toilet I am MORTIFIED but I needed to tell someone so I’ve finally made a Reddit account to complain.\\n\\nI’ve legit never had a laxative in my life until last night. I always worried I’d start abusing them if I did but I was so constipated that I finally caved and what the fuck?? I wake up at 6am feeling like I’m dying from cramps and run to the toilet. I was so dizzy and I don’t know if it was the lax or the fact that I’ve been restricting or what but I could barely hold myself upright. I ended up having violent diarrhea then promptly passing out on the floor???? Before I’d even wiped??? I feel disgusting. I woke up because my cat had stuck his hand under the door and started smacking my head like oh my god. I for real only took the recommend dose of those like chocolate ex lax like is this normal? I feel like it can’t be. \\n\\nDeadass y’all where do I go from here if I get constipated again lmao. Apologies if the formatting is wack I’ve never posted on Reddit before 💀']"
            ]
          },
          "metadata": {},
          "execution_count": 6
        }
      ]
    },
    {
      "cell_type": "markdown",
      "source": [
        "#pre-processing"
      ],
      "metadata": {
        "id": "RDQi882JJYIN"
      }
    },
    {
      "cell_type": "markdown",
      "source": [
        "I'll rename some flairs with similar concepts to reduce the number of categories"
      ],
      "metadata": {
        "id": "B0vh-IvLAiiw"
      }
    },
    {
      "cell_type": "code",
      "source": [
        "#drop rows (posts) with no flairs\n",
        "df = df.dropna(subset=['Flair'])"
      ],
      "metadata": {
        "id": "yTxwOosJBUF0"
      },
      "execution_count": null,
      "outputs": []
    },
    {
      "cell_type": "code",
      "source": [
        "df['Flair'] = df['Flair'].apply(lambda x: re.sub(r'TW.*', 'TW', x))\n",
        "df['Flair'] = df['Flair'].apply(lambda x: re.sub(r'Recovery.*', 'Recovery', x))\n",
        "df['Flair'].value_counts(dropna=False)"
      ],
      "metadata": {
        "colab": {
          "base_uri": "https://localhost:8080/"
        },
        "id": "JUU26XvgD-Fg",
        "outputId": "fbc7b3ef-1172-48bb-ebda-4cca10b7d546"
      },
      "execution_count": 15,
      "outputs": [
        {
          "output_type": "execute_result",
          "data": {
            "text/plain": [
              "Shitpost            258\n",
              "Rant / Rave         189\n",
              "Discussion          104\n",
              "TW                   90\n",
              "Recovery             67\n",
              "oh no                63\n",
              "Story Time           43\n",
              "Victories            20\n",
              "Shitpost / Memes     10\n",
              "Image                 5\n",
              "Meta                  5\n",
              "Fatphobia             3\n",
              "Food                  2\n",
              "Harm Reduction        2\n",
              "Family Vent           2\n",
              "Educational           1\n",
              "Mod Post              1\n",
              "Substance abuse       1\n",
              "Name: Flair, dtype: int64"
            ]
          },
          "metadata": {},
          "execution_count": 15
        }
      ]
    },
    {
      "cell_type": "code",
      "source": [
        "#select 5 largest categories and save the dataset to csv file\n",
        "categories = ['Discussion', 'Rant / Rave', 'TW', 'Shitpost', 'Recovery']\n",
        "df = df.loc[df['Flair'].isin(categories) == True,]\n",
        "df.to_csv('raw_data.csv')"
      ],
      "metadata": {
        "id": "ltyETRlqHWE4"
      },
      "execution_count": null,
      "outputs": []
    },
    {
      "cell_type": "code",
      "source": [
        "df = pd.read_csv('raw_data.csv')"
      ],
      "metadata": {
        "id": "Pr1Fbq-1CB3N"
      },
      "execution_count": 12,
      "outputs": []
    },
    {
      "cell_type": "code",
      "source": [
        "def process(text):\n",
        "  nopunc = [char for char in text if char not in string.punctuation]\n",
        "  nopunc = ''.join(nopunc)\n",
        "  \n",
        "  clean = ' '.join(word.lower() for word in nopunc.split() if word.lower() not in stopwords.words('english'))\n",
        "  return clean\n",
        "\n",
        "df['Text'] = df['Text'].map(lambda x: process(x))\n",
        "\n",
        "df.head()"
      ],
      "metadata": {
        "colab": {
          "base_uri": "https://localhost:8080/",
          "height": 206
        },
        "id": "u16rgkubJfJ0",
        "outputId": "c015fb0c-3d0e-4dc5-f054-03618ad55e37"
      },
      "execution_count": 13,
      "outputs": [
        {
          "output_type": "execute_result",
          "data": {
            "text/html": [
              "\n",
              "  <div id=\"df-393358c9-a07b-4cbd-9c16-dbd0a33014a4\">\n",
              "    <div class=\"colab-df-container\">\n",
              "      <div>\n",
              "<style scoped>\n",
              "    .dataframe tbody tr th:only-of-type {\n",
              "        vertical-align: middle;\n",
              "    }\n",
              "\n",
              "    .dataframe tbody tr th {\n",
              "        vertical-align: top;\n",
              "    }\n",
              "\n",
              "    .dataframe thead th {\n",
              "        text-align: right;\n",
              "    }\n",
              "</style>\n",
              "<table border=\"1\" class=\"dataframe\">\n",
              "  <thead>\n",
              "    <tr style=\"text-align: right;\">\n",
              "      <th></th>\n",
              "      <th>Unnamed: 0</th>\n",
              "      <th>Text</th>\n",
              "      <th>Flair</th>\n",
              "    </tr>\n",
              "  </thead>\n",
              "  <tbody>\n",
              "    <tr>\n",
              "      <th>0</th>\n",
              "      <td>0</td>\n",
              "      <td>raise hand personally victimized •the biggest ...</td>\n",
              "      <td>Shitpost</td>\n",
              "    </tr>\n",
              "    <tr>\n",
              "      <th>1</th>\n",
              "      <td>1</td>\n",
              "      <td>y’all need better boyfriends that’s that’s post</td>\n",
              "      <td>Rant / Rave</td>\n",
              "    </tr>\n",
              "    <tr>\n",
              "      <th>2</th>\n",
              "      <td>2</td>\n",
              "      <td>ancestors ate high calorie meals survive harsh...</td>\n",
              "      <td>Shitpost</td>\n",
              "    </tr>\n",
              "    <tr>\n",
              "      <th>3</th>\n",
              "      <td>4</td>\n",
              "      <td>skinny feeling pooping 3</td>\n",
              "      <td>Shitpost</td>\n",
              "    </tr>\n",
              "    <tr>\n",
              "      <th>4</th>\n",
              "      <td>5</td>\n",
              "      <td>people fasting community mfs going week withou...</td>\n",
              "      <td>Shitpost</td>\n",
              "    </tr>\n",
              "  </tbody>\n",
              "</table>\n",
              "</div>\n",
              "      <button class=\"colab-df-convert\" onclick=\"convertToInteractive('df-393358c9-a07b-4cbd-9c16-dbd0a33014a4')\"\n",
              "              title=\"Convert this dataframe to an interactive table.\"\n",
              "              style=\"display:none;\">\n",
              "        \n",
              "  <svg xmlns=\"http://www.w3.org/2000/svg\" height=\"24px\"viewBox=\"0 0 24 24\"\n",
              "       width=\"24px\">\n",
              "    <path d=\"M0 0h24v24H0V0z\" fill=\"none\"/>\n",
              "    <path d=\"M18.56 5.44l.94 2.06.94-2.06 2.06-.94-2.06-.94-.94-2.06-.94 2.06-2.06.94zm-11 1L8.5 8.5l.94-2.06 2.06-.94-2.06-.94L8.5 2.5l-.94 2.06-2.06.94zm10 10l.94 2.06.94-2.06 2.06-.94-2.06-.94-.94-2.06-.94 2.06-2.06.94z\"/><path d=\"M17.41 7.96l-1.37-1.37c-.4-.4-.92-.59-1.43-.59-.52 0-1.04.2-1.43.59L10.3 9.45l-7.72 7.72c-.78.78-.78 2.05 0 2.83L4 21.41c.39.39.9.59 1.41.59.51 0 1.02-.2 1.41-.59l7.78-7.78 2.81-2.81c.8-.78.8-2.07 0-2.86zM5.41 20L4 18.59l7.72-7.72 1.47 1.35L5.41 20z\"/>\n",
              "  </svg>\n",
              "      </button>\n",
              "      \n",
              "  <style>\n",
              "    .colab-df-container {\n",
              "      display:flex;\n",
              "      flex-wrap:wrap;\n",
              "      gap: 12px;\n",
              "    }\n",
              "\n",
              "    .colab-df-convert {\n",
              "      background-color: #E8F0FE;\n",
              "      border: none;\n",
              "      border-radius: 50%;\n",
              "      cursor: pointer;\n",
              "      display: none;\n",
              "      fill: #1967D2;\n",
              "      height: 32px;\n",
              "      padding: 0 0 0 0;\n",
              "      width: 32px;\n",
              "    }\n",
              "\n",
              "    .colab-df-convert:hover {\n",
              "      background-color: #E2EBFA;\n",
              "      box-shadow: 0px 1px 2px rgba(60, 64, 67, 0.3), 0px 1px 3px 1px rgba(60, 64, 67, 0.15);\n",
              "      fill: #174EA6;\n",
              "    }\n",
              "\n",
              "    [theme=dark] .colab-df-convert {\n",
              "      background-color: #3B4455;\n",
              "      fill: #D2E3FC;\n",
              "    }\n",
              "\n",
              "    [theme=dark] .colab-df-convert:hover {\n",
              "      background-color: #434B5C;\n",
              "      box-shadow: 0px 1px 3px 1px rgba(0, 0, 0, 0.15);\n",
              "      filter: drop-shadow(0px 1px 2px rgba(0, 0, 0, 0.3));\n",
              "      fill: #FFFFFF;\n",
              "    }\n",
              "  </style>\n",
              "\n",
              "      <script>\n",
              "        const buttonEl =\n",
              "          document.querySelector('#df-393358c9-a07b-4cbd-9c16-dbd0a33014a4 button.colab-df-convert');\n",
              "        buttonEl.style.display =\n",
              "          google.colab.kernel.accessAllowed ? 'block' : 'none';\n",
              "\n",
              "        async function convertToInteractive(key) {\n",
              "          const element = document.querySelector('#df-393358c9-a07b-4cbd-9c16-dbd0a33014a4');\n",
              "          const dataTable =\n",
              "            await google.colab.kernel.invokeFunction('convertToInteractive',\n",
              "                                                     [key], {});\n",
              "          if (!dataTable) return;\n",
              "\n",
              "          const docLinkHtml = 'Like what you see? Visit the ' +\n",
              "            '<a target=\"_blank\" href=https://colab.research.google.com/notebooks/data_table.ipynb>data table notebook</a>'\n",
              "            + ' to learn more about interactive tables.';\n",
              "          element.innerHTML = '';\n",
              "          dataTable['output_type'] = 'display_data';\n",
              "          await google.colab.output.renderOutput(dataTable, element);\n",
              "          const docLink = document.createElement('div');\n",
              "          docLink.innerHTML = docLinkHtml;\n",
              "          element.appendChild(docLink);\n",
              "        }\n",
              "      </script>\n",
              "    </div>\n",
              "  </div>\n",
              "  "
            ],
            "text/plain": [
              "   Unnamed: 0                                               Text        Flair\n",
              "0           0  raise hand personally victimized •the biggest ...     Shitpost\n",
              "1           1    y’all need better boyfriends that’s that’s post  Rant / Rave\n",
              "2           2  ancestors ate high calorie meals survive harsh...     Shitpost\n",
              "3           4                           skinny feeling pooping 3     Shitpost\n",
              "4           5  people fasting community mfs going week withou...     Shitpost"
            ]
          },
          "metadata": {},
          "execution_count": 13
        }
      ]
    },
    {
      "cell_type": "markdown",
      "source": [
        "split between train and test data"
      ],
      "metadata": {
        "id": "KWFAULrICSaM"
      }
    },
    {
      "cell_type": "code",
      "source": [
        "X = df['Text']\n",
        "y = df['Flair']\n",
        "\n",
        "X_train, X_test, y_train, y_test = train_test_split(X, y, test_size=0.2, random_state=0, stratify=y)\n",
        "print(len(X_train), len(X_test))"
      ],
      "metadata": {
        "colab": {
          "base_uri": "https://localhost:8080/"
        },
        "id": "MmFFdNpjM7FG",
        "outputId": "29bcf3de-c7fe-4220-dd5a-aab19a5041e5"
      },
      "execution_count": 14,
      "outputs": [
        {
          "output_type": "stream",
          "name": "stdout",
          "text": [
            "652 163\n"
          ]
        }
      ]
    },
    {
      "cell_type": "markdown",
      "source": [
        "#single-layer neural network"
      ],
      "metadata": {
        "id": "y9-tso6tVUQS"
      }
    },
    {
      "cell_type": "code",
      "source": [
        "def vectorize(text):\n",
        "  text = nlp(text)\n",
        "  vec = [word.vector for word in text]\n",
        "  return torch.tensor(sum(vec) / len(vec))"
      ],
      "metadata": {
        "id": "VZ2wSTnqNSP6"
      },
      "execution_count": null,
      "outputs": []
    },
    {
      "cell_type": "code",
      "source": [
        "X_train = torch.stack([vectorize(text) for text in X_train])\n",
        "X_test = torch.stack([vectorize(text) for text in X_test])\n",
        "\n",
        "mapping_dict = {'Discussion':0, 'Rant / Rave':1, 'TW':2, 'Shitpost':3, 'Recovery':4}\n",
        "\n",
        "y_train = torch.LongTensor(y_train.map(mapping_dict).values)\n",
        "y_test = torch.LongTensor(y_test.map(mapping_dict).values)"
      ],
      "metadata": {
        "id": "yaemk-PhTYk6"
      },
      "execution_count": null,
      "outputs": []
    },
    {
      "cell_type": "code",
      "source": [
        "import torch.nn as nn\n",
        "\n",
        "class SingleNN(nn.Module):\n",
        "  def __init__(self, input_size, output_size):\n",
        "    super().__init__()\n",
        "    self.fc = nn.Linear(input_size, output_size, bias=False)\n",
        "    nn.init.normal_(self.fc.weight, 0.0, 1.0)\n",
        "  \n",
        "  def forward(self,x):\n",
        "    x = self.fc(x)\n",
        "    return x"
      ],
      "metadata": {
        "id": "JVUCjfDcTwlA"
      },
      "execution_count": null,
      "outputs": []
    },
    {
      "cell_type": "code",
      "source": [
        "model = SingleNN(input_size=X_train.size()[1], output_size=5)\n",
        "criterion = nn.CrossEntropyLoss()\n",
        "model"
      ],
      "metadata": {
        "colab": {
          "base_uri": "https://localhost:8080/"
        },
        "id": "jWbfJE_yT4EY",
        "outputId": "3a11ad84-b300-4bca-c20f-3aa1a9743e20"
      },
      "execution_count": null,
      "outputs": [
        {
          "output_type": "execute_result",
          "data": {
            "text/plain": [
              "SingleNN(\n",
              "  (fc): Linear(in_features=300, out_features=5, bias=False)\n",
              ")"
            ]
          },
          "metadata": {},
          "execution_count": 17
        }
      ]
    },
    {
      "cell_type": "code",
      "source": [
        "optimizer = torch.optim.Adam(model.parameters(), lr=0.01)"
      ],
      "metadata": {
        "id": "2z8hRlgUUS9j"
      },
      "execution_count": null,
      "outputs": []
    },
    {
      "cell_type": "code",
      "source": [
        "epochs = 300\n",
        "losses = []\n",
        "\n",
        "for i in range(epochs):\n",
        "    i+=1\n",
        "    y_pred = model(X_train)\n",
        "    loss = criterion(y_pred, y_train)\n",
        "    losses.append(loss)\n",
        "\n",
        "    optimizer.zero_grad()\n",
        "    loss.backward()\n",
        "    optimizer.step()\n",
        "\n",
        "    # a neat trick to save screen space:\n",
        "    if i%10 == 1:\n",
        "        print(f'epoch: {i:3}  train_loss: {loss.item():10.8f}')"
      ],
      "metadata": {
        "id": "HPiNdkAfT9k4"
      },
      "execution_count": null,
      "outputs": []
    },
    {
      "cell_type": "code",
      "source": [
        "rows = len(y_test)\n",
        "correct = 0\n",
        "\n",
        "with torch.no_grad():\n",
        "    y_val = model(X_test)\n",
        "\n",
        "for i in range(rows):\n",
        "    if y_val[i].argmax().item() == y_test[i]:\n",
        "        correct += 1\n",
        "\n",
        "print(f'\\n{correct} out of {rows} = {100*correct/rows:.2f}% correct')"
      ],
      "metadata": {
        "colab": {
          "base_uri": "https://localhost:8080/"
        },
        "id": "KX2CEvkXUUcZ",
        "outputId": "5689e2b2-7ade-43f7-bacc-032a388ee4bc"
      },
      "execution_count": null,
      "outputs": [
        {
          "output_type": "stream",
          "name": "stdout",
          "text": [
            "\n",
            "72 out of 163 = 44.17% correct\n"
          ]
        }
      ]
    },
    {
      "cell_type": "markdown",
      "source": [
        "#linearSVC with count vectorizer"
      ],
      "metadata": {
        "id": "ieVzuLegaKoJ"
      }
    },
    {
      "cell_type": "code",
      "source": [
        "cv = CountVectorizer()\n",
        "\n",
        "X_train_cv = cv.fit_transform(X_train)\n",
        "X_train_cv.shape"
      ],
      "metadata": {
        "colab": {
          "base_uri": "https://localhost:8080/"
        },
        "id": "Zk7U-hzgU81P",
        "outputId": "93328d6c-2ed1-46ae-9914-68650f4aa427"
      },
      "execution_count": null,
      "outputs": [
        {
          "output_type": "execute_result",
          "data": {
            "text/plain": [
              "(652, 5695)"
            ]
          },
          "metadata": {},
          "execution_count": 27
        }
      ]
    },
    {
      "cell_type": "code",
      "source": [
        "clf = LinearSVC()\n",
        "clf.fit(X_train_cv, y_train)"
      ],
      "metadata": {
        "colab": {
          "base_uri": "https://localhost:8080/"
        },
        "id": "sG-q1oC8bt_w",
        "outputId": "c2bdabde-0a71-4f9d-f5ff-ed72ac58ac43"
      },
      "execution_count": null,
      "outputs": [
        {
          "output_type": "execute_result",
          "data": {
            "text/plain": [
              "LinearSVC()"
            ]
          },
          "metadata": {},
          "execution_count": 29
        }
      ]
    },
    {
      "cell_type": "code",
      "source": [
        "X_test_cv = cv.transform(X_test)"
      ],
      "metadata": {
        "id": "VWMwuF2Sb6UL"
      },
      "execution_count": null,
      "outputs": []
    },
    {
      "cell_type": "code",
      "source": [
        "predictions = clf.predict(X_test_cv)"
      ],
      "metadata": {
        "id": "sYtLdDH0ceO5"
      },
      "execution_count": null,
      "outputs": []
    },
    {
      "cell_type": "code",
      "source": [
        "# Report the confusion matrix\n",
        "print(metrics.confusion_matrix(y_test,predictions))\n",
        "# Print the overall accuracy\n",
        "print(metrics.accuracy_score(y_test,predictions))"
      ],
      "metadata": {
        "colab": {
          "base_uri": "https://localhost:8080/"
        },
        "id": "HUbSePFDczIR",
        "outputId": "10cb3c07-ff28-4698-c01a-c36bd216d421"
      },
      "execution_count": null,
      "outputs": [
        {
          "output_type": "stream",
          "name": "stdout",
          "text": [
            "[[27  6  2  5  6]\n",
            " [11 17  0  8  6]\n",
            " [ 5  3  5  1  2]\n",
            " [ 6  9  0 10  4]\n",
            " [ 8  8  2  4  8]]\n",
            "0.4110429447852761\n"
          ]
        }
      ]
    },
    {
      "cell_type": "markdown",
      "source": [
        "#linearSVC with tf-idf vectorizer"
      ],
      "metadata": {
        "id": "wPkklf8DdB9s"
      }
    },
    {
      "cell_type": "code",
      "source": [
        "clf_tfidf_lsvc = Pipeline([('tfidf', TfidfVectorizer()),\n",
        "                     ('clf', LinearSVC())])\n",
        "\n",
        "# Feed the training data through the pipeline\n",
        "clf_tfidf_lsvc.fit(X_train, y_train)\n",
        "\n",
        "# Form a prediction set\n",
        "predictions = clf_tfidf_lsvc.predict(X_test)\n",
        "# Print the overall accuracy\n",
        "print('{}% correct'.format(round(metrics.accuracy_score(y_test,predictions)*100, 2)))"
      ],
      "metadata": {
        "colab": {
          "base_uri": "https://localhost:8080/"
        },
        "id": "PGh5VUzmc6Yo",
        "outputId": "15ec6990-0ca8-4502-d9dd-5d333925ed51"
      },
      "execution_count": 16,
      "outputs": [
        {
          "output_type": "stream",
          "name": "stdout",
          "text": [
            "49.08% correct\n"
          ]
        }
      ]
    },
    {
      "cell_type": "markdown",
      "source": [
        "Descriptive: extract the top 5 words most correlated with each flair using tf-idf vectorizer"
      ],
      "metadata": {
        "id": "_ngvzoTgHYE0"
      }
    },
    {
      "cell_type": "code",
      "source": [
        "mapping_dict = {'Discussion':0, 'Rant / Rave':1, 'TW':2, 'Shitpost':3, 'Recovery':4}\n",
        "\n",
        "y = y.map(mapping_dict).values"
      ],
      "metadata": {
        "id": "RjLN8tODjz4a"
      },
      "execution_count": 18,
      "outputs": []
    },
    {
      "cell_type": "code",
      "source": [
        "tfidf = TfidfVectorizer()\n",
        "feat = tfidf.fit_transform(X).toarray()"
      ],
      "metadata": {
        "id": "aJ6MzICujR8u"
      },
      "execution_count": 19,
      "outputs": []
    },
    {
      "cell_type": "code",
      "source": [
        "# chisq2 statistical test\n",
        "N = 5    # Number of examples to be listed\n",
        "for f, i in sorted(mapping_dict.items()):\n",
        "    chi2_feat = chi2(feat, y == i)\n",
        "    indices = np.argsort(chi2_feat[0])\n",
        "    feat_names = np.array(tfidf.get_feature_names())[indices]\n",
        "    unigrams = [w for w in feat_names if len(w.split(' ')) == 1]\n",
        "    print(\"\\nFlair '{}':\".format(f))\n",
        "    print(\"Most correlated unigrams:\\n\\t. {}\".format('\\n\\t. '.join(unigrams[-N:])))"
      ],
      "metadata": {
        "colab": {
          "base_uri": "https://localhost:8080/"
        },
        "id": "RHngyiNrdfvd",
        "outputId": "3eb97d56-8728-48c4-e2ff-4d3bb8c22c2c"
      },
      "execution_count": 22,
      "outputs": [
        {
          "output_type": "stream",
          "name": "stdout",
          "text": [
            "\n",
            "Flair 'Discussion':\n",
            "Most correlated unigrams:\n",
            "\t. mine\n",
            "\t. dae\n",
            "\t. subs\n",
            "\t. else\n",
            "\t. anyone\n",
            "\n",
            "Flair 'Rant / Rave':\n",
            "Most correlated unigrams:\n",
            "\t. nothing\n",
            "\t. unfair\n",
            "\t. thigh\n",
            "\t. gift\n",
            "\t. people\n",
            "\n",
            "Flair 'Recovery':\n",
            "Most correlated unigrams:\n",
            "\t. modeling\n",
            "\t. hope\n",
            "\t. scare\n",
            "\t. proud\n",
            "\t. merry\n",
            "\n",
            "Flair 'Shitpost':\n",
            "Most correlated unigrams:\n",
            "\t. increases\n",
            "\t. lmao\n",
            "\t. dump\n",
            "\t. toilet\n",
            "\t. lies\n",
            "\n",
            "Flair 'TW':\n",
            "Most correlated unigrams:\n",
            "\t. left\n",
            "\t. low\n",
            "\t. bmi\n",
            "\t. 600\n",
            "\t. thighs\n"
          ]
        }
      ]
    }
  ]
}