{
  "metadata": {
    "kernelspec": {
      "language": "python",
      "display_name": "Python 3",
      "name": "python3"
    },
    "language_info": {
      "name": "python",
      "version": "3.7.12",
      "mimetype": "text/x-python",
      "codemirror_mode": {
        "name": "ipython",
        "version": 3
      },
      "pygments_lexer": "ipython3",
      "nbconvert_exporter": "python",
      "file_extension": ".py"
    },
    "colab": {
      "name": "reddit-proed_pt2.ipynb",
      "provenance": [],
      "collapsed_sections": [],
      "include_colab_link": true
    },
    "accelerator": "GPU"
  },
  "nbformat_minor": 0,
  "nbformat": 4,
  "cells": [
    {
      "cell_type": "markdown",
      "metadata": {
        "id": "view-in-github",
        "colab_type": "text"
      },
      "source": [
        "<a href=\"https://colab.research.google.com/github/matakahas/portfolio/blob/main/reddit_proed_pt2.ipynb\" target=\"_parent\"><img src=\"https://colab.research.google.com/assets/colab-badge.svg\" alt=\"Open In Colab\"/></a>"
      ]
    },
    {
      "cell_type": "markdown",
      "source": [
        "## Topic modeling and flair prediction from the banned r/proED/ subreddit (Part 2)\n",
        "\n",
        "Part 2 of this project conducts topic modelling using the dataset scraped and saved in Part 1."
      ],
      "metadata": {
        "id": "mh9k9BWEsXz6"
      }
    },
    {
      "cell_type": "markdown",
      "source": [
        "### Import libraries and dataset\n",
        "I will start off by downloading an English dictionary from SpaCy."
      ],
      "metadata": {
        "id": "vmMBIIw2DC9E"
      }
    },
    {
      "cell_type": "code",
      "source": [
        "!python -m spacy download en_core_web_md | grep -v 'already satisfied'"
      ],
      "metadata": {
        "execution": {
          "iopub.status.busy": "2022-01-10T15:22:44.136729Z",
          "iopub.execute_input": "2022-01-10T15:22:44.137684Z",
          "iopub.status.idle": "2022-01-10T15:23:09.663235Z",
          "shell.execute_reply.started": "2022-01-10T15:22:44.137562Z",
          "shell.execute_reply": "2022-01-10T15:23:09.662436Z"
        },
        "trusted": true,
        "id": "a6I0yLICsX0F"
      },
      "execution_count": null,
      "outputs": []
    },
    {
      "cell_type": "markdown",
      "source": [
        "Restart runtime after the dictionary has been downloaded. Then import all the libraries I will use. "
      ],
      "metadata": {
        "id": "6JuFGtP0DkWo"
      }
    },
    {
      "cell_type": "code",
      "source": [
        "import numpy as np\n",
        "import pandas as pd\n",
        "import re\n",
        "\n",
        "import nltk\n",
        "nltk.download('stopwords')\n",
        "from nltk.corpus import stopwords\n",
        "import string\n",
        "import spacy\n",
        "nlp = spacy.load(\"en_core_web_md\")\n",
        "\n",
        "#this funstion suppresses sklearn deprecation warnings \n",
        "def warn(*args, **kwargs):\n",
        "    pass\n",
        "import warnings\n",
        "warnings.warn = warn\n",
        "\n",
        "from sklearn.decomposition import NMF\n",
        "from sklearn.feature_extraction.text import TfidfVectorizer\n",
        "from sklearn.feature_selection import chi2"
      ],
      "metadata": {
        "execution": {
          "iopub.status.busy": "2022-01-10T15:31:04.610754Z",
          "iopub.execute_input": "2022-01-10T15:31:04.611224Z",
          "iopub.status.idle": "2022-01-10T15:31:06.538109Z",
          "shell.execute_reply.started": "2022-01-10T15:31:04.611185Z",
          "shell.execute_reply": "2022-01-10T15:31:06.537332Z"
        },
        "trusted": true,
        "colab": {
          "base_uri": "https://localhost:8080/"
        },
        "id": "Qe9d3DC9sX0I",
        "outputId": "e5cc5e83-a32b-4dbc-9460-19260879040b"
      },
      "execution_count": null,
      "outputs": [
        {
          "output_type": "stream",
          "name": "stdout",
          "text": [
            "[nltk_data] Downloading package stopwords to /root/nltk_data...\n",
            "[nltk_data]   Package stopwords is already up-to-date!\n"
          ]
        }
      ]
    },
    {
      "cell_type": "markdown",
      "source": [
        "Mount my google drive (where my dataset is) onto this notebook"
      ],
      "metadata": {
        "id": "plfyoFtNECeH"
      }
    },
    {
      "cell_type": "code",
      "source": [
        "from google.colab import drive\n",
        "drive.mount('/content/drive')"
      ],
      "metadata": {
        "colab": {
          "base_uri": "https://localhost:8080/"
        },
        "id": "8pOOAsRntqpk",
        "outputId": "2c73e7a3-f594-4612-8cb6-83951e3f113f"
      },
      "execution_count": null,
      "outputs": [
        {
          "output_type": "stream",
          "name": "stdout",
          "text": [
            "Mounted at /content/drive\n"
          ]
        }
      ]
    },
    {
      "cell_type": "markdown",
      "source": [
        "Import the dataset"
      ],
      "metadata": {
        "id": "vWUllfAmES3T"
      }
    },
    {
      "cell_type": "code",
      "source": [
        "df = pd.read_csv('/content/drive/MyDrive/Colab_Notebooks/proED_full_dataset.csv')\n",
        "df = df.iloc[:, 1:]\n",
        "df.head()"
      ],
      "metadata": {
        "execution": {
          "iopub.status.busy": "2022-01-08T01:57:42.338971Z",
          "iopub.execute_input": "2022-01-08T01:57:42.340062Z",
          "iopub.status.idle": "2022-01-08T01:57:44.167478Z",
          "shell.execute_reply.started": "2022-01-08T01:57:42.339999Z",
          "shell.execute_reply": "2022-01-08T01:57:44.16653Z"
        },
        "trusted": true,
        "colab": {
          "base_uri": "https://localhost:8080/",
          "height": 206
        },
        "id": "Z0HyEnO8sX0K",
        "outputId": "fa4b6050-89d3-42e2-d6d3-ff79ee455bcf"
      },
      "execution_count": null,
      "outputs": [
        {
          "output_type": "execute_result",
          "data": {
            "text/html": [
              "\n",
              "  <div id=\"df-193549ef-48c6-4e49-8a6a-43e305786db2\">\n",
              "    <div class=\"colab-df-container\">\n",
              "      <div>\n",
              "<style scoped>\n",
              "    .dataframe tbody tr th:only-of-type {\n",
              "        vertical-align: middle;\n",
              "    }\n",
              "\n",
              "    .dataframe tbody tr th {\n",
              "        vertical-align: top;\n",
              "    }\n",
              "\n",
              "    .dataframe thead th {\n",
              "        text-align: right;\n",
              "    }\n",
              "</style>\n",
              "<table border=\"1\" class=\"dataframe\">\n",
              "  <thead>\n",
              "    <tr style=\"text-align: right;\">\n",
              "      <th></th>\n",
              "      <th>Flair</th>\n",
              "      <th>Title</th>\n",
              "      <th>User</th>\n",
              "      <th>Date</th>\n",
              "      <th>Text</th>\n",
              "    </tr>\n",
              "  </thead>\n",
              "  <tbody>\n",
              "    <tr>\n",
              "      <th>0</th>\n",
              "      <td>none</td>\n",
              "      <td>Will be trying my first 2-day fast and I plan ...</td>\n",
              "      <td>/u/CharChar12 [5' 9.5 |160lbs|23.5| Male]</td>\n",
              "      <td>2017-03-14 00:34:55</td>\n",
              "      <td>[removed]</td>\n",
              "    </tr>\n",
              "    <tr>\n",
              "      <th>1</th>\n",
              "      <td>Rant/Rave</td>\n",
              "      <td>Body issues and my mom</td>\n",
              "      <td>/u/PutinsThirdLover</td>\n",
              "      <td>2017-03-14 00:31:14</td>\n",
              "      <td>Edit: Can't flair, as on mobile.I'm just frust...</td>\n",
              "    </tr>\n",
              "    <tr>\n",
              "      <th>2</th>\n",
              "      <td>Discussion</td>\n",
              "      <td>What's the most amount of weight you've lost i...</td>\n",
              "      <td>/u/[deleted]</td>\n",
              "      <td>2017-03-13 22:50:08</td>\n",
              "      <td>[deleted]</td>\n",
              "    </tr>\n",
              "    <tr>\n",
              "      <th>3</th>\n",
              "      <td>Rant/Rave</td>\n",
              "      <td>Day 8 of restriction. Want encouragement please ♡</td>\n",
              "      <td>/u/AdloraOfSolitude [5'2 | 105.8 | 20 | -12 lb...</td>\n",
              "      <td>2017-03-13 22:15:27</td>\n",
              "      <td>[removed]</td>\n",
              "    </tr>\n",
              "    <tr>\n",
              "      <th>4</th>\n",
              "      <td>Discussion</td>\n",
              "      <td>Why We Eat Too Much</td>\n",
              "      <td>/u/skin_ny [5'9.5\" | 113.6 | 16.19 | -44 | F]</td>\n",
              "      <td>2017-03-13 21:46:32</td>\n",
              "      <td>http://www.thebookoflife.org/why-we-eat-too-much/</td>\n",
              "    </tr>\n",
              "  </tbody>\n",
              "</table>\n",
              "</div>\n",
              "      <button class=\"colab-df-convert\" onclick=\"convertToInteractive('df-193549ef-48c6-4e49-8a6a-43e305786db2')\"\n",
              "              title=\"Convert this dataframe to an interactive table.\"\n",
              "              style=\"display:none;\">\n",
              "        \n",
              "  <svg xmlns=\"http://www.w3.org/2000/svg\" height=\"24px\"viewBox=\"0 0 24 24\"\n",
              "       width=\"24px\">\n",
              "    <path d=\"M0 0h24v24H0V0z\" fill=\"none\"/>\n",
              "    <path d=\"M18.56 5.44l.94 2.06.94-2.06 2.06-.94-2.06-.94-.94-2.06-.94 2.06-2.06.94zm-11 1L8.5 8.5l.94-2.06 2.06-.94-2.06-.94L8.5 2.5l-.94 2.06-2.06.94zm10 10l.94 2.06.94-2.06 2.06-.94-2.06-.94-.94-2.06-.94 2.06-2.06.94z\"/><path d=\"M17.41 7.96l-1.37-1.37c-.4-.4-.92-.59-1.43-.59-.52 0-1.04.2-1.43.59L10.3 9.45l-7.72 7.72c-.78.78-.78 2.05 0 2.83L4 21.41c.39.39.9.59 1.41.59.51 0 1.02-.2 1.41-.59l7.78-7.78 2.81-2.81c.8-.78.8-2.07 0-2.86zM5.41 20L4 18.59l7.72-7.72 1.47 1.35L5.41 20z\"/>\n",
              "  </svg>\n",
              "      </button>\n",
              "      \n",
              "  <style>\n",
              "    .colab-df-container {\n",
              "      display:flex;\n",
              "      flex-wrap:wrap;\n",
              "      gap: 12px;\n",
              "    }\n",
              "\n",
              "    .colab-df-convert {\n",
              "      background-color: #E8F0FE;\n",
              "      border: none;\n",
              "      border-radius: 50%;\n",
              "      cursor: pointer;\n",
              "      display: none;\n",
              "      fill: #1967D2;\n",
              "      height: 32px;\n",
              "      padding: 0 0 0 0;\n",
              "      width: 32px;\n",
              "    }\n",
              "\n",
              "    .colab-df-convert:hover {\n",
              "      background-color: #E2EBFA;\n",
              "      box-shadow: 0px 1px 2px rgba(60, 64, 67, 0.3), 0px 1px 3px 1px rgba(60, 64, 67, 0.15);\n",
              "      fill: #174EA6;\n",
              "    }\n",
              "\n",
              "    [theme=dark] .colab-df-convert {\n",
              "      background-color: #3B4455;\n",
              "      fill: #D2E3FC;\n",
              "    }\n",
              "\n",
              "    [theme=dark] .colab-df-convert:hover {\n",
              "      background-color: #434B5C;\n",
              "      box-shadow: 0px 1px 3px 1px rgba(0, 0, 0, 0.15);\n",
              "      filter: drop-shadow(0px 1px 2px rgba(0, 0, 0, 0.3));\n",
              "      fill: #FFFFFF;\n",
              "    }\n",
              "  </style>\n",
              "\n",
              "      <script>\n",
              "        const buttonEl =\n",
              "          document.querySelector('#df-193549ef-48c6-4e49-8a6a-43e305786db2 button.colab-df-convert');\n",
              "        buttonEl.style.display =\n",
              "          google.colab.kernel.accessAllowed ? 'block' : 'none';\n",
              "\n",
              "        async function convertToInteractive(key) {\n",
              "          const element = document.querySelector('#df-193549ef-48c6-4e49-8a6a-43e305786db2');\n",
              "          const dataTable =\n",
              "            await google.colab.kernel.invokeFunction('convertToInteractive',\n",
              "                                                     [key], {});\n",
              "          if (!dataTable) return;\n",
              "\n",
              "          const docLinkHtml = 'Like what you see? Visit the ' +\n",
              "            '<a target=\"_blank\" href=https://colab.research.google.com/notebooks/data_table.ipynb>data table notebook</a>'\n",
              "            + ' to learn more about interactive tables.';\n",
              "          element.innerHTML = '';\n",
              "          dataTable['output_type'] = 'display_data';\n",
              "          await google.colab.output.renderOutput(dataTable, element);\n",
              "          const docLink = document.createElement('div');\n",
              "          docLink.innerHTML = docLinkHtml;\n",
              "          element.appendChild(docLink);\n",
              "        }\n",
              "      </script>\n",
              "    </div>\n",
              "  </div>\n",
              "  "
            ],
            "text/plain": [
              "        Flair  ...                                               Text\n",
              "0        none  ...                                          [removed]\n",
              "1   Rant/Rave  ...  Edit: Can't flair, as on mobile.I'm just frust...\n",
              "2  Discussion  ...                                          [deleted]\n",
              "3   Rant/Rave  ...                                          [removed]\n",
              "4  Discussion  ...  http://www.thebookoflife.org/why-we-eat-too-much/\n",
              "\n",
              "[5 rows x 5 columns]"
            ]
          },
          "metadata": {},
          "execution_count": 3
        }
      ]
    },
    {
      "cell_type": "markdown",
      "source": [
        "### pre-processing\n",
        "I'll rename some of the flairs with similar concepts to in order to reduce the number of categories, which should make flair prediction easier. I will also remove stopwords and make the letters lower case."
      ],
      "metadata": {
        "id": "ybA7ERhWsX0K"
      }
    },
    {
      "cell_type": "code",
      "source": [
        "df['Flair'] = df['Flair'].apply(lambda x: x.lower())\n",
        "df['Flair'] = df['Flair'].apply(lambda x: \"rant/rave\" if re.search(r\"(?:rant|rave)\", x) else x)\n",
        "df['Flair'] = df['Flair'].apply(lambda x: \"discussion\" if re.search(r\"discussion\", x) else x)\n",
        "df['Flair'] = df['Flair'].apply(lambda x: \"humor\" if re.search(r\"humor\", x) else x)"
      ],
      "metadata": {
        "execution": {
          "iopub.status.busy": "2022-01-08T01:57:48.136152Z",
          "iopub.execute_input": "2022-01-08T01:57:48.136484Z",
          "iopub.status.idle": "2022-01-08T01:57:48.361015Z",
          "shell.execute_reply.started": "2022-01-08T01:57:48.136452Z",
          "shell.execute_reply": "2022-01-08T01:57:48.360121Z"
        },
        "trusted": true,
        "id": "tg0aH0HPsX0L"
      },
      "execution_count": null,
      "outputs": []
    },
    {
      "cell_type": "code",
      "source": [
        "#select 10 largest categories\n",
        "flair_counts = df['Flair'].value_counts().to_frame()\n",
        "top10 = flair_counts[:10].index.tolist()\n",
        "\n",
        "df = df.loc[df['Flair'].isin(top10) == True,]"
      ],
      "metadata": {
        "execution": {
          "iopub.status.busy": "2022-01-08T01:57:51.843107Z",
          "iopub.execute_input": "2022-01-08T01:57:51.844006Z",
          "iopub.status.idle": "2022-01-08T01:57:51.875523Z",
          "shell.execute_reply.started": "2022-01-08T01:57:51.843953Z",
          "shell.execute_reply": "2022-01-08T01:57:51.874952Z"
        },
        "trusted": true,
        "id": "Ari6VnmtsX0L"
      },
      "execution_count": null,
      "outputs": []
    },
    {
      "cell_type": "markdown",
      "source": [
        "I will make a smaller dataframe consisting of `Text` (titles and main contents combined) and `Flair`."
      ],
      "metadata": {
        "id": "ufEmUXvAsX0M"
      }
    },
    {
      "cell_type": "code",
      "source": [
        "data = {'Text': df['Title'] + ' ' + df['Text'], 'Flair': df['Flair']}\n",
        "df_sm = pd.DataFrame(data=data)\n",
        "df_sm.head()"
      ],
      "metadata": {
        "execution": {
          "iopub.status.busy": "2022-01-08T01:57:54.69302Z",
          "iopub.execute_input": "2022-01-08T01:57:54.693974Z",
          "iopub.status.idle": "2022-01-08T01:57:54.869889Z",
          "shell.execute_reply.started": "2022-01-08T01:57:54.693928Z",
          "shell.execute_reply": "2022-01-08T01:57:54.869228Z"
        },
        "trusted": true,
        "colab": {
          "base_uri": "https://localhost:8080/",
          "height": 206
        },
        "id": "v7yxXiwksX0N",
        "outputId": "393ed5b0-a3b3-4824-ba33-2385a0706197"
      },
      "execution_count": null,
      "outputs": [
        {
          "output_type": "execute_result",
          "data": {
            "text/html": [
              "\n",
              "  <div id=\"df-0f78880e-0119-45b3-a20c-e23e4e88c8c2\">\n",
              "    <div class=\"colab-df-container\">\n",
              "      <div>\n",
              "<style scoped>\n",
              "    .dataframe tbody tr th:only-of-type {\n",
              "        vertical-align: middle;\n",
              "    }\n",
              "\n",
              "    .dataframe tbody tr th {\n",
              "        vertical-align: top;\n",
              "    }\n",
              "\n",
              "    .dataframe thead th {\n",
              "        text-align: right;\n",
              "    }\n",
              "</style>\n",
              "<table border=\"1\" class=\"dataframe\">\n",
              "  <thead>\n",
              "    <tr style=\"text-align: right;\">\n",
              "      <th></th>\n",
              "      <th>Text</th>\n",
              "      <th>Flair</th>\n",
              "    </tr>\n",
              "  </thead>\n",
              "  <tbody>\n",
              "    <tr>\n",
              "      <th>0</th>\n",
              "      <td>Will be trying my first 2-day fast and I plan ...</td>\n",
              "      <td>none</td>\n",
              "    </tr>\n",
              "    <tr>\n",
              "      <th>1</th>\n",
              "      <td>Body issues and my mom Edit: Can't flair, as o...</td>\n",
              "      <td>rant/rave</td>\n",
              "    </tr>\n",
              "    <tr>\n",
              "      <th>2</th>\n",
              "      <td>What's the most amount of weight you've lost i...</td>\n",
              "      <td>discussion</td>\n",
              "    </tr>\n",
              "    <tr>\n",
              "      <th>3</th>\n",
              "      <td>Day 8 of restriction. Want encouragement pleas...</td>\n",
              "      <td>rant/rave</td>\n",
              "    </tr>\n",
              "    <tr>\n",
              "      <th>4</th>\n",
              "      <td>Why We Eat Too Much http://www.thebookoflife.o...</td>\n",
              "      <td>discussion</td>\n",
              "    </tr>\n",
              "  </tbody>\n",
              "</table>\n",
              "</div>\n",
              "      <button class=\"colab-df-convert\" onclick=\"convertToInteractive('df-0f78880e-0119-45b3-a20c-e23e4e88c8c2')\"\n",
              "              title=\"Convert this dataframe to an interactive table.\"\n",
              "              style=\"display:none;\">\n",
              "        \n",
              "  <svg xmlns=\"http://www.w3.org/2000/svg\" height=\"24px\"viewBox=\"0 0 24 24\"\n",
              "       width=\"24px\">\n",
              "    <path d=\"M0 0h24v24H0V0z\" fill=\"none\"/>\n",
              "    <path d=\"M18.56 5.44l.94 2.06.94-2.06 2.06-.94-2.06-.94-.94-2.06-.94 2.06-2.06.94zm-11 1L8.5 8.5l.94-2.06 2.06-.94-2.06-.94L8.5 2.5l-.94 2.06-2.06.94zm10 10l.94 2.06.94-2.06 2.06-.94-2.06-.94-.94-2.06-.94 2.06-2.06.94z\"/><path d=\"M17.41 7.96l-1.37-1.37c-.4-.4-.92-.59-1.43-.59-.52 0-1.04.2-1.43.59L10.3 9.45l-7.72 7.72c-.78.78-.78 2.05 0 2.83L4 21.41c.39.39.9.59 1.41.59.51 0 1.02-.2 1.41-.59l7.78-7.78 2.81-2.81c.8-.78.8-2.07 0-2.86zM5.41 20L4 18.59l7.72-7.72 1.47 1.35L5.41 20z\"/>\n",
              "  </svg>\n",
              "      </button>\n",
              "      \n",
              "  <style>\n",
              "    .colab-df-container {\n",
              "      display:flex;\n",
              "      flex-wrap:wrap;\n",
              "      gap: 12px;\n",
              "    }\n",
              "\n",
              "    .colab-df-convert {\n",
              "      background-color: #E8F0FE;\n",
              "      border: none;\n",
              "      border-radius: 50%;\n",
              "      cursor: pointer;\n",
              "      display: none;\n",
              "      fill: #1967D2;\n",
              "      height: 32px;\n",
              "      padding: 0 0 0 0;\n",
              "      width: 32px;\n",
              "    }\n",
              "\n",
              "    .colab-df-convert:hover {\n",
              "      background-color: #E2EBFA;\n",
              "      box-shadow: 0px 1px 2px rgba(60, 64, 67, 0.3), 0px 1px 3px 1px rgba(60, 64, 67, 0.15);\n",
              "      fill: #174EA6;\n",
              "    }\n",
              "\n",
              "    [theme=dark] .colab-df-convert {\n",
              "      background-color: #3B4455;\n",
              "      fill: #D2E3FC;\n",
              "    }\n",
              "\n",
              "    [theme=dark] .colab-df-convert:hover {\n",
              "      background-color: #434B5C;\n",
              "      box-shadow: 0px 1px 3px 1px rgba(0, 0, 0, 0.15);\n",
              "      filter: drop-shadow(0px 1px 2px rgba(0, 0, 0, 0.3));\n",
              "      fill: #FFFFFF;\n",
              "    }\n",
              "  </style>\n",
              "\n",
              "      <script>\n",
              "        const buttonEl =\n",
              "          document.querySelector('#df-0f78880e-0119-45b3-a20c-e23e4e88c8c2 button.colab-df-convert');\n",
              "        buttonEl.style.display =\n",
              "          google.colab.kernel.accessAllowed ? 'block' : 'none';\n",
              "\n",
              "        async function convertToInteractive(key) {\n",
              "          const element = document.querySelector('#df-0f78880e-0119-45b3-a20c-e23e4e88c8c2');\n",
              "          const dataTable =\n",
              "            await google.colab.kernel.invokeFunction('convertToInteractive',\n",
              "                                                     [key], {});\n",
              "          if (!dataTable) return;\n",
              "\n",
              "          const docLinkHtml = 'Like what you see? Visit the ' +\n",
              "            '<a target=\"_blank\" href=https://colab.research.google.com/notebooks/data_table.ipynb>data table notebook</a>'\n",
              "            + ' to learn more about interactive tables.';\n",
              "          element.innerHTML = '';\n",
              "          dataTable['output_type'] = 'display_data';\n",
              "          await google.colab.output.renderOutput(dataTable, element);\n",
              "          const docLink = document.createElement('div');\n",
              "          docLink.innerHTML = docLinkHtml;\n",
              "          element.appendChild(docLink);\n",
              "        }\n",
              "      </script>\n",
              "    </div>\n",
              "  </div>\n",
              "  "
            ],
            "text/plain": [
              "                                                Text       Flair\n",
              "0  Will be trying my first 2-day fast and I plan ...        none\n",
              "1  Body issues and my mom Edit: Can't flair, as o...   rant/rave\n",
              "2  What's the most amount of weight you've lost i...  discussion\n",
              "3  Day 8 of restriction. Want encouragement pleas...   rant/rave\n",
              "4  Why We Eat Too Much http://www.thebookoflife.o...  discussion"
            ]
          },
          "metadata": {},
          "execution_count": 6
        }
      ]
    },
    {
      "cell_type": "markdown",
      "source": [
        "Remove rows with an empty value, or a value that is too long (probably the result of a glitch during scraping)"
      ],
      "metadata": {
        "id": "XUlzpLLvG8kb"
      }
    },
    {
      "cell_type": "code",
      "source": [
        "df_sm = df_sm[df_sm['Text'].isna()==False]\n",
        "df_sm = df_sm[df_sm['Text'].map(len) < 1000000]"
      ],
      "metadata": {
        "id": "PUMBt0fcHHnP"
      },
      "execution_count": null,
      "outputs": []
    },
    {
      "cell_type": "markdown",
      "source": [
        "Create a set of stopwords and add \\[deleted\\] and \\[removed\\] to the set"
      ],
      "metadata": {
        "id": "6UaAVvWsGVcr"
      }
    },
    {
      "cell_type": "code",
      "source": [
        "stpwrd = stopwords.words('english')\n",
        "stpwrd.extend(['[deleted]', '[removed]'])"
      ],
      "metadata": {
        "execution": {
          "iopub.status.busy": "2022-01-08T02:06:07.145552Z",
          "iopub.execute_input": "2022-01-08T02:06:07.146213Z",
          "iopub.status.idle": "2022-01-08T02:06:07.151756Z",
          "shell.execute_reply.started": "2022-01-08T02:06:07.146163Z",
          "shell.execute_reply": "2022-01-08T02:06:07.150711Z"
        },
        "trusted": true,
        "id": "VCtafuPksX0O"
      },
      "execution_count": null,
      "outputs": []
    },
    {
      "cell_type": "markdown",
      "source": [
        "Remove the stopwords and make letters lower. This will take some time..."
      ],
      "metadata": {
        "id": "mRi2T881Gjvf"
      }
    },
    {
      "cell_type": "code",
      "source": [
        "def process(text):\n",
        "    nopunc = [char for char in text if char not in string.punctuation]\n",
        "    nopunc = ''.join(nopunc)\n",
        "    clean = ' '.join(word.lower() for word in nopunc.split() if word.lower() not in stopwords.words('english'))\n",
        "    return clean\n",
        "\n",
        "df_sm['Text'] = df_sm['Text'].map(lambda x: x if str(x) == 'nan' else process(x))"
      ],
      "metadata": {
        "execution": {
          "iopub.status.busy": "2022-01-08T02:06:14.116305Z",
          "iopub.execute_input": "2022-01-08T02:06:14.116626Z",
          "iopub.status.idle": "2022-01-08T02:22:22.104416Z",
          "shell.execute_reply.started": "2022-01-08T02:06:14.116594Z",
          "shell.execute_reply": "2022-01-08T02:22:22.10349Z"
        },
        "trusted": true,
        "id": "hFww9sassX0O"
      },
      "execution_count": null,
      "outputs": []
    },
    {
      "cell_type": "markdown",
      "source": [
        "Save the cleaned dataset"
      ],
      "metadata": {
        "id": "1cbyGpXqGxcl"
      }
    },
    {
      "cell_type": "code",
      "source": [
        "df_sm.to_csv('proED_full_dataset_clean_sm.csv')"
      ],
      "metadata": {
        "execution": {
          "iopub.status.busy": "2022-01-10T15:23:23.113950Z",
          "iopub.execute_input": "2022-01-10T15:23:23.114326Z",
          "iopub.status.idle": "2022-01-10T15:23:23.623693Z",
          "shell.execute_reply.started": "2022-01-10T15:23:23.114287Z",
          "shell.execute_reply": "2022-01-10T15:23:23.622489Z"
        },
        "trusted": true,
        "id": "nBHoM9vjsX0P"
      },
      "execution_count": null,
      "outputs": []
    },
    {
      "cell_type": "markdown",
      "source": [
        "Re-import the dataset"
      ],
      "metadata": {
        "id": "FqGb-erZHZXj"
      }
    },
    {
      "cell_type": "code",
      "source": [
        "df = pd.read_csv('/content/drive/MyDrive/Colab_Notebooks/proED_full_dataset_clean_sm.csv')\n",
        "df = df.iloc[:, 1:]\n",
        "df.head()"
      ],
      "metadata": {
        "execution": {
          "iopub.status.busy": "2022-01-10T15:23:32.370055Z",
          "iopub.execute_input": "2022-01-10T15:23:32.370789Z",
          "iopub.status.idle": "2022-01-10T15:23:33.221295Z",
          "shell.execute_reply.started": "2022-01-10T15:23:32.370741Z",
          "shell.execute_reply": "2022-01-10T15:23:33.220581Z"
        },
        "trusted": true,
        "colab": {
          "base_uri": "https://localhost:8080/",
          "height": 206
        },
        "id": "UKCa66WTsX0Q",
        "outputId": "d64b4ff5-93bc-4afe-a4fb-4520c22f0e49"
      },
      "execution_count": null,
      "outputs": [
        {
          "output_type": "execute_result",
          "data": {
            "text/html": [
              "\n",
              "  <div id=\"df-bdf03676-6b73-4843-9d1a-3d018df3ab82\">\n",
              "    <div class=\"colab-df-container\">\n",
              "      <div>\n",
              "<style scoped>\n",
              "    .dataframe tbody tr th:only-of-type {\n",
              "        vertical-align: middle;\n",
              "    }\n",
              "\n",
              "    .dataframe tbody tr th {\n",
              "        vertical-align: top;\n",
              "    }\n",
              "\n",
              "    .dataframe thead th {\n",
              "        text-align: right;\n",
              "    }\n",
              "</style>\n",
              "<table border=\"1\" class=\"dataframe\">\n",
              "  <thead>\n",
              "    <tr style=\"text-align: right;\">\n",
              "      <th></th>\n",
              "      <th>Text</th>\n",
              "      <th>Flair</th>\n",
              "    </tr>\n",
              "  </thead>\n",
              "  <tbody>\n",
              "    <tr>\n",
              "      <th>0</th>\n",
              "      <td>trying first 2day fast plan use post motivatio...</td>\n",
              "      <td>none</td>\n",
              "    </tr>\n",
              "    <tr>\n",
              "      <th>1</th>\n",
              "      <td>body issues mom edit cant flair mobileim frust...</td>\n",
              "      <td>rant/rave</td>\n",
              "    </tr>\n",
              "    <tr>\n",
              "      <th>2</th>\n",
              "      <td>whats amount weight youve lost shortest period...</td>\n",
              "      <td>discussion</td>\n",
              "    </tr>\n",
              "    <tr>\n",
              "      <th>3</th>\n",
              "      <td>day 8 restriction want encouragement please ♡ ...</td>\n",
              "      <td>rant/rave</td>\n",
              "    </tr>\n",
              "    <tr>\n",
              "      <th>4</th>\n",
              "      <td>eat much httpwwwthebookoflifeorgwhyweeattoomuch</td>\n",
              "      <td>discussion</td>\n",
              "    </tr>\n",
              "  </tbody>\n",
              "</table>\n",
              "</div>\n",
              "      <button class=\"colab-df-convert\" onclick=\"convertToInteractive('df-bdf03676-6b73-4843-9d1a-3d018df3ab82')\"\n",
              "              title=\"Convert this dataframe to an interactive table.\"\n",
              "              style=\"display:none;\">\n",
              "        \n",
              "  <svg xmlns=\"http://www.w3.org/2000/svg\" height=\"24px\"viewBox=\"0 0 24 24\"\n",
              "       width=\"24px\">\n",
              "    <path d=\"M0 0h24v24H0V0z\" fill=\"none\"/>\n",
              "    <path d=\"M18.56 5.44l.94 2.06.94-2.06 2.06-.94-2.06-.94-.94-2.06-.94 2.06-2.06.94zm-11 1L8.5 8.5l.94-2.06 2.06-.94-2.06-.94L8.5 2.5l-.94 2.06-2.06.94zm10 10l.94 2.06.94-2.06 2.06-.94-2.06-.94-.94-2.06-.94 2.06-2.06.94z\"/><path d=\"M17.41 7.96l-1.37-1.37c-.4-.4-.92-.59-1.43-.59-.52 0-1.04.2-1.43.59L10.3 9.45l-7.72 7.72c-.78.78-.78 2.05 0 2.83L4 21.41c.39.39.9.59 1.41.59.51 0 1.02-.2 1.41-.59l7.78-7.78 2.81-2.81c.8-.78.8-2.07 0-2.86zM5.41 20L4 18.59l7.72-7.72 1.47 1.35L5.41 20z\"/>\n",
              "  </svg>\n",
              "      </button>\n",
              "      \n",
              "  <style>\n",
              "    .colab-df-container {\n",
              "      display:flex;\n",
              "      flex-wrap:wrap;\n",
              "      gap: 12px;\n",
              "    }\n",
              "\n",
              "    .colab-df-convert {\n",
              "      background-color: #E8F0FE;\n",
              "      border: none;\n",
              "      border-radius: 50%;\n",
              "      cursor: pointer;\n",
              "      display: none;\n",
              "      fill: #1967D2;\n",
              "      height: 32px;\n",
              "      padding: 0 0 0 0;\n",
              "      width: 32px;\n",
              "    }\n",
              "\n",
              "    .colab-df-convert:hover {\n",
              "      background-color: #E2EBFA;\n",
              "      box-shadow: 0px 1px 2px rgba(60, 64, 67, 0.3), 0px 1px 3px 1px rgba(60, 64, 67, 0.15);\n",
              "      fill: #174EA6;\n",
              "    }\n",
              "\n",
              "    [theme=dark] .colab-df-convert {\n",
              "      background-color: #3B4455;\n",
              "      fill: #D2E3FC;\n",
              "    }\n",
              "\n",
              "    [theme=dark] .colab-df-convert:hover {\n",
              "      background-color: #434B5C;\n",
              "      box-shadow: 0px 1px 3px 1px rgba(0, 0, 0, 0.15);\n",
              "      filter: drop-shadow(0px 1px 2px rgba(0, 0, 0, 0.3));\n",
              "      fill: #FFFFFF;\n",
              "    }\n",
              "  </style>\n",
              "\n",
              "      <script>\n",
              "        const buttonEl =\n",
              "          document.querySelector('#df-bdf03676-6b73-4843-9d1a-3d018df3ab82 button.colab-df-convert');\n",
              "        buttonEl.style.display =\n",
              "          google.colab.kernel.accessAllowed ? 'block' : 'none';\n",
              "\n",
              "        async function convertToInteractive(key) {\n",
              "          const element = document.querySelector('#df-bdf03676-6b73-4843-9d1a-3d018df3ab82');\n",
              "          const dataTable =\n",
              "            await google.colab.kernel.invokeFunction('convertToInteractive',\n",
              "                                                     [key], {});\n",
              "          if (!dataTable) return;\n",
              "\n",
              "          const docLinkHtml = 'Like what you see? Visit the ' +\n",
              "            '<a target=\"_blank\" href=https://colab.research.google.com/notebooks/data_table.ipynb>data table notebook</a>'\n",
              "            + ' to learn more about interactive tables.';\n",
              "          element.innerHTML = '';\n",
              "          dataTable['output_type'] = 'display_data';\n",
              "          await google.colab.output.renderOutput(dataTable, element);\n",
              "          const docLink = document.createElement('div');\n",
              "          docLink.innerHTML = docLinkHtml;\n",
              "          element.appendChild(docLink);\n",
              "        }\n",
              "      </script>\n",
              "    </div>\n",
              "  </div>\n",
              "  "
            ],
            "text/plain": [
              "                                                Text       Flair\n",
              "0  trying first 2day fast plan use post motivatio...        none\n",
              "1  body issues mom edit cant flair mobileim frust...   rant/rave\n",
              "2  whats amount weight youve lost shortest period...  discussion\n",
              "3  day 8 restriction want encouragement please ♡ ...   rant/rave\n",
              "4    eat much httpwwwthebookoflifeorgwhyweeattoomuch  discussion"
            ]
          },
          "metadata": {},
          "execution_count": 3
        }
      ]
    },
    {
      "cell_type": "markdown",
      "source": [
        "I will focus on 5 out of the 10 flairs. The code below subsets rows based on the selected flairs"
      ],
      "metadata": {
        "id": "GxC3JiULK_no"
      }
    },
    {
      "cell_type": "code",
      "source": [
        "flairs_selected = ['rant/rave', 'discussion', 'help', 'goal', 'thinspo']\n",
        "df = df[df['Flair'].isin(flairs_selected)]\n",
        "\n",
        "#check the size of dataset\n",
        "len(df)"
      ],
      "metadata": {
        "execution": {
          "iopub.status.busy": "2022-01-08T16:31:00.696659Z",
          "iopub.execute_input": "2022-01-08T16:31:00.697365Z",
          "iopub.status.idle": "2022-01-08T16:31:00.715644Z",
          "shell.execute_reply.started": "2022-01-08T16:31:00.697327Z",
          "shell.execute_reply": "2022-01-08T16:31:00.714849Z"
        },
        "trusted": true,
        "colab": {
          "base_uri": "https://localhost:8080/"
        },
        "id": "4_e8-Y_ysX0R",
        "outputId": "a6e8c8d7-3ab2-4052-d303-cb30d00c5f3f"
      },
      "execution_count": null,
      "outputs": [
        {
          "output_type": "execute_result",
          "data": {
            "text/plain": [
              "47468"
            ]
          },
          "metadata": {},
          "execution_count": 5
        }
      ]
    },
    {
      "cell_type": "markdown",
      "source": [
        "### Topic modeling\n",
        "\n",
        "I will first process the dataset by using TF-IDF Vectorization to create a vectorized document term matrix. I will then use the Non-Negative Matrix Factorization (NMF) technique to generate 8 components (topics) with the list of words characteristic of each topic. \\\n",
        "I adapted the code from an assignment in an Udemy course \"NLP - Natural Language Processing with Python\" ([link](https://www.udemy.com/course/nlp-natural-language-processing-with-python/) to course)"
      ],
      "metadata": {
        "id": "x8cQMqVMsX0S"
      }
    },
    {
      "cell_type": "code",
      "source": [
        "tfidf = TfidfVectorizer()\n",
        "dtm = tfidf.fit_transform(df['Text'])"
      ],
      "metadata": {
        "execution": {
          "iopub.status.busy": "2022-01-10T15:31:16.164298Z",
          "iopub.execute_input": "2022-01-10T15:31:16.164623Z",
          "iopub.status.idle": "2022-01-10T15:31:21.117296Z",
          "shell.execute_reply.started": "2022-01-10T15:31:16.164587Z",
          "shell.execute_reply": "2022-01-10T15:31:21.116527Z"
        },
        "trusted": true,
        "id": "n1v5VaeEsX0S"
      },
      "execution_count": null,
      "outputs": []
    },
    {
      "cell_type": "code",
      "source": [
        "nmf_model = NMF(n_components=5,random_state=42)\n",
        "nmf_model.fit(dtm)"
      ],
      "metadata": {
        "execution": {
          "iopub.status.busy": "2022-01-10T15:33:05.241701Z",
          "iopub.execute_input": "2022-01-10T15:33:05.242405Z",
          "iopub.status.idle": "2022-01-10T15:33:16.659414Z",
          "shell.execute_reply.started": "2022-01-10T15:33:05.242364Z",
          "shell.execute_reply": "2022-01-10T15:33:16.658520Z"
        },
        "trusted": true,
        "colab": {
          "base_uri": "https://localhost:8080/"
        },
        "id": "b4WKuv-CsX0T",
        "outputId": "9aee0433-1bac-4352-b9b7-2fcd8f631537"
      },
      "execution_count": null,
      "outputs": [
        {
          "output_type": "execute_result",
          "data": {
            "text/plain": [
              "NMF(n_components=5, random_state=42)"
            ]
          },
          "metadata": {},
          "execution_count": 16
        }
      ]
    },
    {
      "cell_type": "code",
      "source": [
        "nmf_topics = []\n",
        "for index,topic in enumerate(nmf_model.components_):\n",
        "    print(f'THE TOP 10 WORDS FOR TOPIC #{index}')\n",
        "    topics = [tfidf.get_feature_names()[i] for i in topic.argsort()[-10:]]\n",
        "    nmf_topics.append(topics)\n",
        "    print(topics)\n",
        "    print('\\n')"
      ],
      "metadata": {
        "execution": {
          "iopub.status.busy": "2022-01-10T15:34:10.156145Z",
          "iopub.execute_input": "2022-01-10T15:34:10.156442Z",
          "iopub.status.idle": "2022-01-10T15:34:16.858752Z",
          "shell.execute_reply.started": "2022-01-10T15:34:10.156412Z",
          "shell.execute_reply": "2022-01-10T15:34:16.857151Z"
        },
        "trusted": true,
        "colab": {
          "base_uri": "https://localhost:8080/"
        },
        "id": "kULawyf1sX0T",
        "outputId": "8fb60292-cccd-40d7-9623-1a5189240722"
      },
      "execution_count": null,
      "outputs": [
        {
          "output_type": "stream",
          "name": "stdout",
          "text": [
            "THE TOP 10 WORDS FOR TOPIC #0\n",
            "['going', 'lose', 'like', 'cant', 'want', 'know', 'dont', 'ive', 'weight', 'im']\n",
            "\n",
            "\n",
            "THE TOP 10 WORDS FOR TOPIC #1\n",
            "['thinspo', 'else', 'dae', 'binge', 'fast', 'anyone', 'ed', 'rant', 'help', 'deleted']\n",
            "\n",
            "\n",
            "THE TOP 10 WORDS FOR TOPIC #2\n",
            "['anyone', 'purge', 'diet', 'binge', 'fast', 'weight', 'need', 'fasting', 'help', 'removed']\n",
            "\n",
            "\n",
            "THE TOP 10 WORDS FOR TOPIC #3\n",
            "['format', 'thread', 'estimatecalculation', 'total', 'calorie', 'food', '2016', 'post', 'daily', 'diary']\n",
            "\n",
            "\n",
            "THE TOP 10 WORDS FOR TOPIC #4\n",
            "['get', 'want', 'binge', 'calories', 'day', 'food', 'eating', 'feel', 'like', 'eat']\n",
            "\n",
            "\n"
          ]
        }
      ]
    },
    {
      "cell_type": "markdown",
      "source": [
        "### Most characteristic words for each flair\n",
        "Now I will find out which words are the most correlated to each flair. I will examine how similar the list of words generated above and the one below look."
      ],
      "metadata": {
        "id": "A35wNuilsX0T"
      }
    },
    {
      "cell_type": "code",
      "source": [
        "mapping_dict = {}\n",
        "for i, f in enumerate(flairs_selected):\n",
        "    mapping_dict[f] = i\n",
        "\n",
        "X = df['Text']\n",
        "y = df['Flair']\n",
        "\n",
        "y = y.map(mapping_dict).values"
      ],
      "metadata": {
        "execution": {
          "iopub.status.busy": "2022-01-08T16:31:04.626773Z",
          "iopub.execute_input": "2022-01-08T16:31:04.627687Z",
          "iopub.status.idle": "2022-01-08T16:31:04.641278Z",
          "shell.execute_reply.started": "2022-01-08T16:31:04.627637Z",
          "shell.execute_reply": "2022-01-08T16:31:04.640557Z"
        },
        "trusted": true,
        "id": "1LCLMApgsX0U"
      },
      "execution_count": null,
      "outputs": []
    },
    {
      "cell_type": "code",
      "source": [
        "tfidf = TfidfVectorizer()\n",
        "feat = tfidf.fit_transform(X)"
      ],
      "metadata": {
        "execution": {
          "iopub.status.busy": "2022-01-08T16:29:37.79264Z",
          "iopub.execute_input": "2022-01-08T16:29:37.79292Z"
        },
        "trusted": true,
        "id": "K6siJLDLsX0V"
      },
      "execution_count": null,
      "outputs": []
    },
    {
      "cell_type": "code",
      "source": [
        "# chisq2 statistical test\n",
        "chisq_topics = {}\n",
        "N = 10    # Number of examples to be listed\n",
        "for f, i in sorted(mapping_dict.items()):\n",
        "    chi2_feat = chi2(feat, y == i)\n",
        "    indices = np.argsort(chi2_feat[0])\n",
        "    feat_names = np.array(tfidf.get_feature_names())[indices]\n",
        "    unigrams = [w for w in feat_names if len(w.split(' ')) == 1]\n",
        "    chisq_topics[f] = unigrams[-N:]\n",
        "    print(\"\\nFlair '{}':\".format(f))\n",
        "    print(\"Most correlated words: {}\".format(unigrams[-N:]))"
      ],
      "metadata": {
        "execution": {
          "iopub.status.busy": "2022-01-08T15:13:28.904248Z",
          "iopub.execute_input": "2022-01-08T15:13:28.904504Z"
        },
        "trusted": true,
        "colab": {
          "base_uri": "https://localhost:8080/"
        },
        "id": "ufg2mXS4sX0V",
        "outputId": "26cb2722-611f-495b-f601-31c7b7cc2fcd"
      },
      "execution_count": null,
      "outputs": [
        {
          "output_type": "stream",
          "name": "stdout",
          "text": [
            "\n",
            "Flair 'discussion':\n",
            "Most correlated words: ['necessarily', 'include', 'estimatecalculation', 'format', 'else', 'anyone', '2016', 'thread', 'diary', 'dae']\n",
            "\n",
            "Flair 'goal':\n",
            "Most correlated words: ['luck', 'nsv', 'proud', 'reached', 'accountability', 'shaping', 'finally', 'checkin', 'goals', 'goal']\n",
            "\n",
            "Flair 'help':\n",
            "Most correlated words: ['ephedrine', 'suggestions', 'question', 'please', 'thinspo', 'ec', 'removed', 'advice', 'tips', 'help']\n",
            "\n",
            "Flair 'rant/rave':\n",
            "Most correlated words: ['thread', 'dae', 'daily', 'diary', 'fuck', 'hate', 'anyone', 'thinspo', 'rant', 'fucking']\n",
            "\n",
            "Flair 'thinspo':\n",
            "Most correlated words: ['antithinspo', 'bw', 'kpop', 'nsfw', 'reverse', 'daily', 'male', 'thinspiration', 'album', 'thinspo']\n"
          ]
        }
      ]
    },
    {
      "cell_type": "markdown",
      "source": [
        "Now let's compare the similarity between the two lists of keywords"
      ],
      "metadata": {
        "id": "cpiPO0PMVlZB"
      }
    },
    {
      "cell_type": "code",
      "source": [
        "for i, nmf in enumerate(nmf_topics):\n",
        "  max = 0\n",
        "  idx = 0\n",
        "  for j, chq in enumerate(chisq_topics.values()):\n",
        "    overlaps = len(set.intersection(set(nmf), set(chq)))\n",
        "    if overlaps > max:\n",
        "      max = overlaps\n",
        "      idx = j\n",
        "  if max == 0:\n",
        "    print(f'There is no good match for Topic {i}')\n",
        "  else:\n",
        "    print(f'The most similar category of Topic {i} is {list(chisq_topics.keys())[idx]}, which has these keywords in common : {set.intersection(set(nmf), set(list(chisq_topics.values())[idx]))}')\n"
      ],
      "metadata": {
        "colab": {
          "base_uri": "https://localhost:8080/"
        },
        "id": "wt0AdL5AZFon",
        "outputId": "66bc980e-bede-44fb-a25b-b3293153b56e"
      },
      "execution_count": null,
      "outputs": [
        {
          "output_type": "stream",
          "name": "stdout",
          "text": [
            "There is no good match for Topic 0\n",
            "The most similar category of Topic 1 is rant/rave, which has these keywords in common : {'thinspo', 'rant', 'anyone', 'dae'}\n",
            "The most similar category of Topic 2 is help, which has these keywords in common : {'removed', 'help'}\n",
            "The most similar category of Topic 3 is discussion, which has these keywords in common : {'diary', '2016', 'estimatecalculation', 'thread', 'format'}\n",
            "There is no good match for Topic 4\n"
          ]
        }
      ]
    },
    {
      "cell_type": "markdown",
      "source": [
        "Based on the result, it looks like some of the topics that were generated by NMF overlap with the actual categories, while there were no topics corresponding to 'thinspo' and 'goal', which makes sense given that there are a lot fewer posts under these flairs in the dataset."
      ],
      "metadata": {
        "id": "2fJJa6IhYPQR"
      }
    },
    {
      "cell_type": "code",
      "source": [
        "df['Flair'].value_counts()"
      ],
      "metadata": {
        "colab": {
          "base_uri": "https://localhost:8080/"
        },
        "id": "V2ztC0M0hzm1",
        "outputId": "f781066b-6bec-4720-f751-91286642587a"
      },
      "execution_count": null,
      "outputs": [
        {
          "output_type": "execute_result",
          "data": {
            "text/plain": [
              "rant/rave     19770\n",
              "discussion    13445\n",
              "help           9687\n",
              "goal           2375\n",
              "thinspo        2191\n",
              "Name: Flair, dtype: int64"
            ]
          },
          "metadata": {},
          "execution_count": 41
        }
      ]
    },
    {
      "cell_type": "markdown",
      "source": [
        "This is the end of Part 2. Thank you for tagging along!"
      ],
      "metadata": {
        "id": "OGrHNxwyiGoh"
      }
    },
    {
      "cell_type": "code",
      "source": [
        ""
      ],
      "metadata": {
        "id": "Qwl3boM1m_hN"
      },
      "execution_count": null,
      "outputs": []
    }
  ]
}