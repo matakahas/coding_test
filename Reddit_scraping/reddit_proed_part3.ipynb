{
  "metadata": {
    "kernelspec": {
      "language": "python",
      "display_name": "Python 3",
      "name": "python3"
    },
    "language_info": {
      "name": "python",
      "version": "3.7.12",
      "mimetype": "text/x-python",
      "codemirror_mode": {
        "name": "ipython",
        "version": 3
      },
      "pygments_lexer": "ipython3",
      "nbconvert_exporter": "python",
      "file_extension": ".py"
    },
    "colab": {
      "name": "reddit-proed_pt3.ipynb",
      "provenance": [],
      "collapsed_sections": [
        "cR-lm3FdHWw2",
        "NnZL9839HWw4"
      ]
    },
    "accelerator": "GPU"
  },
  "nbformat_minor": 0,
  "nbformat": 4,
  "cells": [
    {
      "cell_type": "markdown",
      "source": [
        "## Topic modeling and flair prediction from the banned r/proED/ subreddit (Part 3)\n",
        "\n",
        "Part 3 of this project examines whether ML models could predict a flair given a post using the dataset scraped and saved in Part 1."
      ],
      "metadata": {
        "id": "wsOV6dvQHWwW"
      }
    },
    {
      "cell_type": "markdown",
      "source": [
        "### Import libraries and dataset"
      ],
      "metadata": {
        "id": "mYSF4aGeIHrX"
      }
    },
    {
      "cell_type": "code",
      "source": [
        "!python -m spacy download en_core_web_md | grep -v 'already satisfied'"
      ],
      "metadata": {
        "id": "wq-JX0ogPVQ2"
      },
      "execution_count": null,
      "outputs": []
    },
    {
      "cell_type": "code",
      "source": [
        "import numpy as np\n",
        "import pandas as pd\n",
        "import re\n",
        "\n",
        "import spacy\n",
        "nlp = spacy.load(\"en_core_web_md\")\n",
        "\n",
        "#this funstion suppresses sklearn deprecation warnings \n",
        "def warn(*args, **kwargs):\n",
        "    pass\n",
        "import warnings\n",
        "warnings.warn = warn\n",
        "\n",
        "import torch\n",
        "import torch.nn as nn\n",
        "from torch.utils.data import Dataset\n",
        "from torch.utils.data import DataLoader\n",
        "from torch.nn import functional as F\n",
        "\n",
        "from sklearn.model_selection import train_test_split\n",
        "from sklearn.feature_extraction.text import CountVectorizer\n",
        "from sklearn import metrics\n",
        "from sklearn.pipeline import Pipeline\n",
        "from sklearn.feature_extraction.text import TfidfVectorizer\n",
        "from sklearn.svm import LinearSVC\n",
        "from sklearn.naive_bayes import MultinomialNB\n",
        "from sklearn.linear_model import LogisticRegression\n",
        "from sklearn.ensemble import RandomForestClassifier\n",
        "from sklearn.model_selection import cross_val_score\n",
        "\n",
        "import seaborn as sns"
      ],
      "metadata": {
        "execution": {
          "iopub.status.busy": "2022-01-10T15:31:04.610754Z",
          "iopub.execute_input": "2022-01-10T15:31:04.611224Z",
          "iopub.status.idle": "2022-01-10T15:31:06.538109Z",
          "shell.execute_reply.started": "2022-01-10T15:31:04.611185Z",
          "shell.execute_reply": "2022-01-10T15:31:06.537332Z"
        },
        "trusted": true,
        "id": "Vf8YmTXGHWwl"
      },
      "execution_count": 1,
      "outputs": []
    },
    {
      "cell_type": "code",
      "source": [
        "from google.colab import drive\n",
        "drive.mount('/content/drive')"
      ],
      "metadata": {
        "colab": {
          "base_uri": "https://localhost:8080/"
        },
        "id": "PUHLRk6rH9OU",
        "outputId": "2f3d79ca-6151-4017-90fd-d54b24d809bd"
      },
      "execution_count": 2,
      "outputs": [
        {
          "output_type": "stream",
          "name": "stdout",
          "text": [
            "Drive already mounted at /content/drive; to attempt to forcibly remount, call drive.mount(\"/content/drive\", force_remount=True).\n"
          ]
        }
      ]
    },
    {
      "cell_type": "markdown",
      "source": [
        "Import the dataset"
      ],
      "metadata": {
        "id": "a_dI01uIICKc"
      }
    },
    {
      "cell_type": "code",
      "source": [
        "df = pd.read_csv('/content/drive/MyDrive/Colab_Notebooks/proED_full_dataset_clean_sm.csv')\n",
        "df = df.iloc[:, 1:]\n",
        "df.head()"
      ],
      "metadata": {
        "execution": {
          "iopub.status.busy": "2022-01-08T01:57:42.338971Z",
          "iopub.execute_input": "2022-01-08T01:57:42.340062Z",
          "iopub.status.idle": "2022-01-08T01:57:44.167478Z",
          "shell.execute_reply.started": "2022-01-08T01:57:42.339999Z",
          "shell.execute_reply": "2022-01-08T01:57:44.16653Z"
        },
        "trusted": true,
        "colab": {
          "base_uri": "https://localhost:8080/",
          "height": 206
        },
        "id": "lzKX_-ZJHWwm",
        "outputId": "4300ec12-2b5e-41e6-eb24-0f1ef3cfdd1b"
      },
      "execution_count": 3,
      "outputs": [
        {
          "output_type": "execute_result",
          "data": {
            "text/html": [
              "\n",
              "  <div id=\"df-6bda2acd-7b44-4a8d-b9bb-6c3c5e763e41\">\n",
              "    <div class=\"colab-df-container\">\n",
              "      <div>\n",
              "<style scoped>\n",
              "    .dataframe tbody tr th:only-of-type {\n",
              "        vertical-align: middle;\n",
              "    }\n",
              "\n",
              "    .dataframe tbody tr th {\n",
              "        vertical-align: top;\n",
              "    }\n",
              "\n",
              "    .dataframe thead th {\n",
              "        text-align: right;\n",
              "    }\n",
              "</style>\n",
              "<table border=\"1\" class=\"dataframe\">\n",
              "  <thead>\n",
              "    <tr style=\"text-align: right;\">\n",
              "      <th></th>\n",
              "      <th>Text</th>\n",
              "      <th>Flair</th>\n",
              "    </tr>\n",
              "  </thead>\n",
              "  <tbody>\n",
              "    <tr>\n",
              "      <th>0</th>\n",
              "      <td>trying first 2day fast plan use post motivatio...</td>\n",
              "      <td>none</td>\n",
              "    </tr>\n",
              "    <tr>\n",
              "      <th>1</th>\n",
              "      <td>body issues mom edit cant flair mobileim frust...</td>\n",
              "      <td>rant/rave</td>\n",
              "    </tr>\n",
              "    <tr>\n",
              "      <th>2</th>\n",
              "      <td>whats amount weight youve lost shortest period...</td>\n",
              "      <td>discussion</td>\n",
              "    </tr>\n",
              "    <tr>\n",
              "      <th>3</th>\n",
              "      <td>day 8 restriction want encouragement please ♡ ...</td>\n",
              "      <td>rant/rave</td>\n",
              "    </tr>\n",
              "    <tr>\n",
              "      <th>4</th>\n",
              "      <td>eat much httpwwwthebookoflifeorgwhyweeattoomuch</td>\n",
              "      <td>discussion</td>\n",
              "    </tr>\n",
              "  </tbody>\n",
              "</table>\n",
              "</div>\n",
              "      <button class=\"colab-df-convert\" onclick=\"convertToInteractive('df-6bda2acd-7b44-4a8d-b9bb-6c3c5e763e41')\"\n",
              "              title=\"Convert this dataframe to an interactive table.\"\n",
              "              style=\"display:none;\">\n",
              "        \n",
              "  <svg xmlns=\"http://www.w3.org/2000/svg\" height=\"24px\"viewBox=\"0 0 24 24\"\n",
              "       width=\"24px\">\n",
              "    <path d=\"M0 0h24v24H0V0z\" fill=\"none\"/>\n",
              "    <path d=\"M18.56 5.44l.94 2.06.94-2.06 2.06-.94-2.06-.94-.94-2.06-.94 2.06-2.06.94zm-11 1L8.5 8.5l.94-2.06 2.06-.94-2.06-.94L8.5 2.5l-.94 2.06-2.06.94zm10 10l.94 2.06.94-2.06 2.06-.94-2.06-.94-.94-2.06-.94 2.06-2.06.94z\"/><path d=\"M17.41 7.96l-1.37-1.37c-.4-.4-.92-.59-1.43-.59-.52 0-1.04.2-1.43.59L10.3 9.45l-7.72 7.72c-.78.78-.78 2.05 0 2.83L4 21.41c.39.39.9.59 1.41.59.51 0 1.02-.2 1.41-.59l7.78-7.78 2.81-2.81c.8-.78.8-2.07 0-2.86zM5.41 20L4 18.59l7.72-7.72 1.47 1.35L5.41 20z\"/>\n",
              "  </svg>\n",
              "      </button>\n",
              "      \n",
              "  <style>\n",
              "    .colab-df-container {\n",
              "      display:flex;\n",
              "      flex-wrap:wrap;\n",
              "      gap: 12px;\n",
              "    }\n",
              "\n",
              "    .colab-df-convert {\n",
              "      background-color: #E8F0FE;\n",
              "      border: none;\n",
              "      border-radius: 50%;\n",
              "      cursor: pointer;\n",
              "      display: none;\n",
              "      fill: #1967D2;\n",
              "      height: 32px;\n",
              "      padding: 0 0 0 0;\n",
              "      width: 32px;\n",
              "    }\n",
              "\n",
              "    .colab-df-convert:hover {\n",
              "      background-color: #E2EBFA;\n",
              "      box-shadow: 0px 1px 2px rgba(60, 64, 67, 0.3), 0px 1px 3px 1px rgba(60, 64, 67, 0.15);\n",
              "      fill: #174EA6;\n",
              "    }\n",
              "\n",
              "    [theme=dark] .colab-df-convert {\n",
              "      background-color: #3B4455;\n",
              "      fill: #D2E3FC;\n",
              "    }\n",
              "\n",
              "    [theme=dark] .colab-df-convert:hover {\n",
              "      background-color: #434B5C;\n",
              "      box-shadow: 0px 1px 3px 1px rgba(0, 0, 0, 0.15);\n",
              "      filter: drop-shadow(0px 1px 2px rgba(0, 0, 0, 0.3));\n",
              "      fill: #FFFFFF;\n",
              "    }\n",
              "  </style>\n",
              "\n",
              "      <script>\n",
              "        const buttonEl =\n",
              "          document.querySelector('#df-6bda2acd-7b44-4a8d-b9bb-6c3c5e763e41 button.colab-df-convert');\n",
              "        buttonEl.style.display =\n",
              "          google.colab.kernel.accessAllowed ? 'block' : 'none';\n",
              "\n",
              "        async function convertToInteractive(key) {\n",
              "          const element = document.querySelector('#df-6bda2acd-7b44-4a8d-b9bb-6c3c5e763e41');\n",
              "          const dataTable =\n",
              "            await google.colab.kernel.invokeFunction('convertToInteractive',\n",
              "                                                     [key], {});\n",
              "          if (!dataTable) return;\n",
              "\n",
              "          const docLinkHtml = 'Like what you see? Visit the ' +\n",
              "            '<a target=\"_blank\" href=https://colab.research.google.com/notebooks/data_table.ipynb>data table notebook</a>'\n",
              "            + ' to learn more about interactive tables.';\n",
              "          element.innerHTML = '';\n",
              "          dataTable['output_type'] = 'display_data';\n",
              "          await google.colab.output.renderOutput(dataTable, element);\n",
              "          const docLink = document.createElement('div');\n",
              "          docLink.innerHTML = docLinkHtml;\n",
              "          element.appendChild(docLink);\n",
              "        }\n",
              "      </script>\n",
              "    </div>\n",
              "  </div>\n",
              "  "
            ],
            "text/plain": [
              "                                                Text       Flair\n",
              "0  trying first 2day fast plan use post motivatio...        none\n",
              "1  body issues mom edit cant flair mobileim frust...   rant/rave\n",
              "2  whats amount weight youve lost shortest period...  discussion\n",
              "3  day 8 restriction want encouragement please ♡ ...   rant/rave\n",
              "4    eat much httpwwwthebookoflifeorgwhyweeattoomuch  discussion"
            ]
          },
          "metadata": {},
          "execution_count": 3
        }
      ]
    },
    {
      "cell_type": "markdown",
      "source": [
        "To simplify the task, I will focus on 5 out of the 10 flairs. I will also remove rows with NaN values and values that are too long for SpaCy to handle."
      ],
      "metadata": {
        "id": "MjIc3d-aTBa3"
      }
    },
    {
      "cell_type": "code",
      "source": [
        "flairs_selected = ['rant/rave', 'discussion', 'help', 'goal', 'thinspo']\n",
        "df = df[df['Flair'].isin(flairs_selected)]\n",
        "\n",
        "df = df[df.isnull().any(axis=1) == False]\n",
        "df = df.loc[df['Text'].map(len) <= 100000]"
      ],
      "metadata": {
        "id": "oy8RUnRcSyLE"
      },
      "execution_count": 4,
      "outputs": []
    },
    {
      "cell_type": "markdown",
      "source": [
        "### splitting into train and test data"
      ],
      "metadata": {
        "id": "k-uA2QitHWw0"
      }
    },
    {
      "cell_type": "code",
      "source": [
        "X = df['Text']\n",
        "y = df['Flair']\n",
        "\n",
        "X_train, X_test, y_train, y_test = train_test_split(X, y, test_size=0.2, random_state=0, stratify=y)\n",
        "print(len(X_train), len(X_test))"
      ],
      "metadata": {
        "execution": {
          "iopub.status.busy": "2022-01-08T16:31:17.687839Z",
          "iopub.execute_input": "2022-01-08T16:31:17.688393Z",
          "iopub.status.idle": "2022-01-08T16:31:17.733224Z",
          "shell.execute_reply.started": "2022-01-08T16:31:17.688355Z",
          "shell.execute_reply": "2022-01-08T16:31:17.732466Z"
        },
        "trusted": true,
        "colab": {
          "base_uri": "https://localhost:8080/"
        },
        "id": "OSrFB_RDHWw0",
        "outputId": "816b7b0d-3dae-46de-829d-a6c33bff76cb"
      },
      "execution_count": 5,
      "outputs": [
        {
          "output_type": "stream",
          "name": "stdout",
          "text": [
            "37973 9494\n"
          ]
        }
      ]
    },
    {
      "cell_type": "markdown",
      "source": [
        "### comparing various ML models with sci-kit learn\n",
        "The problem that I am dealing with in this project is multi-class text classification; given a string, a model must predict which class/category the text belongs to. <br>\n",
        "I will compare several of the algorithms suitable for the task, all of which are readily available in the scikit-learn library. <br>\n",
        "I adapted the code to compare different algorithms from [this page](https://towardsdatascience.com/multi-class-text-classification-with-scikit-learn-12f1e60e0a9f)."
      ],
      "metadata": {
        "id": "H47x8YACHWw0"
      }
    },
    {
      "cell_type": "code",
      "source": [
        "tfidf = TfidfVectorizer()\n",
        "features = tfidf.fit_transform(X)\n",
        "labels = y"
      ],
      "metadata": {
        "id": "36DVT9aNXXKj"
      },
      "execution_count": 41,
      "outputs": []
    },
    {
      "cell_type": "code",
      "source": [
        "models = [RandomForestClassifier(n_estimators=200, max_depth=3, random_state=0),\n",
        "          LinearSVC(),\n",
        "          MultinomialNB(),\n",
        "          LogisticRegression(random_state=0)]\n",
        "CV = 5\n",
        "cv_df = pd.DataFrame(index=range(CV * len(models)))\n",
        "\n",
        "entries = []\n",
        "for model in models:\n",
        "  model_name = model.__class__.__name__\n",
        "  accuracies = cross_val_score(model, features, labels, scoring='accuracy', cv=CV)\n",
        "  for fold_idx, accuracy in enumerate(accuracies):\n",
        "    entries.append((model_name, fold_idx, accuracy))\n",
        "cv_df = pd.DataFrame(entries, columns=['model_name', 'fold_idx', 'accuracy'])\n",
        "\n",
        "sns.boxplot(x='model_name', y='accuracy', data=cv_df)\n",
        "sns.stripplot(x='model_name', y='accuracy', data=cv_df, \n",
        "              size=8, jitter=True, edgecolor=\"gray\", linewidth=2)"
      ],
      "metadata": {
        "colab": {
          "base_uri": "https://localhost:8080/",
          "height": 297
        },
        "id": "Lv6mFmLSU2FB",
        "outputId": "c123d662-887d-475d-9d59-33d804a7ad20"
      },
      "execution_count": 42,
      "outputs": [
        {
          "output_type": "execute_result",
          "data": {
            "text/plain": [
              "<matplotlib.axes._subplots.AxesSubplot at 0x7fd0d58276d0>"
            ]
          },
          "metadata": {},
          "execution_count": 42
        },
        {
          "output_type": "display_data",
          "data": {
            "image/png": "[encoded data removed]",
            "text/plain": [
              "<Figure size 432x288 with 1 Axes>"
            ]
          },
          "metadata": {
            "needs_background": "light"
          }
        }
      ]
    },
    {
      "cell_type": "code",
      "source": [
        "cv_df.groupby('model_name').accuracy.mean()"
      ],
      "metadata": {
        "colab": {
          "base_uri": "https://localhost:8080/"
        },
        "id": "wOxIjBaQY8Hh",
        "outputId": "29dd6191-4d7b-4d24-b164-52d54893edb4"
      },
      "execution_count": 43,
      "outputs": [
        {
          "output_type": "execute_result",
          "data": {
            "text/plain": [
              "model_name\n",
              "LinearSVC                 0.660248\n",
              "LogisticRegression        0.680536\n",
              "MultinomialNB             0.487666\n",
              "RandomForestClassifier    0.426212\n",
              "Name: accuracy, dtype: float64"
            ]
          },
          "metadata": {},
          "execution_count": 43
        }
      ]
    },
    {
      "cell_type": "markdown",
      "source": [
        "Overall, accuracy is not that great, but it's clear that LinearSVC and logistic regression performed much better than the other two models."
      ],
      "metadata": {
        "id": "pE4lvqPbZ4TW"
      }
    },
    {
      "cell_type": "markdown",
      "source": [
        "### single-layer neural network"
      ],
      "metadata": {
        "id": "cR-lm3FdHWw2"
      }
    },
    {
      "cell_type": "markdown",
      "source": [
        "The code for generating and training a single-layer NN model was adapted for the materials in Udemy's [PyTorch for Deep Learning with Python Bootcamp](https://www.udemy.com/course/pytorch-for-deep-learning-with-python-bootcamp/). <br>\n",
        "Below is the function that vectorizes each word in a text, using SpaCy's pre-trained word embedding model. The returned value is the average vector converted to a tensor. "
      ],
      "metadata": {
        "id": "uedjv4XKavV1"
      }
    },
    {
      "cell_type": "code",
      "source": [
        "def vectorize(text):\n",
        "    text = nlp(text)\n",
        "    vec = [word.vector for word in text]\n",
        "    return torch.tensor(sum(vec) / len(vec))"
      ],
      "metadata": {
        "execution": {
          "iopub.status.busy": "2022-01-08T16:31:23.99929Z",
          "iopub.execute_input": "2022-01-08T16:31:23.99976Z",
          "iopub.status.idle": "2022-01-08T16:31:24.004834Z",
          "shell.execute_reply.started": "2022-01-08T16:31:23.999721Z",
          "shell.execute_reply": "2022-01-08T16:31:24.003808Z"
        },
        "trusted": true,
        "id": "S87-YVUCHWw2"
      },
      "execution_count": 6,
      "outputs": []
    },
    {
      "cell_type": "markdown",
      "source": [
        "Create tensors of the independent variable X. This code will take some time to finish running..."
      ],
      "metadata": {
        "id": "2ZRgOgKxcAu9"
      }
    },
    {
      "cell_type": "code",
      "source": [
        "X_train_tensor = torch.stack([vectorize(text) for text in X_train])\n",
        "X_test_tensor = torch.stack([vectorize(text) for text in X_test])"
      ],
      "metadata": {
        "execution": {
          "iopub.status.busy": "2022-01-08T16:49:56.053592Z",
          "iopub.execute_input": "2022-01-08T16:49:56.054263Z",
          "iopub.status.idle": "2022-01-08T16:49:56.064501Z",
          "shell.execute_reply.started": "2022-01-08T16:49:56.054221Z",
          "shell.execute_reply": "2022-01-08T16:49:56.06374Z"
        },
        "trusted": true,
        "id": "MyGKgJWSHWw2"
      },
      "execution_count": 30,
      "outputs": []
    },
    {
      "cell_type": "markdown",
      "source": [
        "Next, create a function that maps each flair to a number. Change the values of the dependent variable y using this function, and convert them to tensors."
      ],
      "metadata": {
        "id": "KQ0BTu5OcVh6"
      }
    },
    {
      "cell_type": "code",
      "source": [
        "mapping_dict = {}\n",
        "for i, f in enumerate(list(set(df['Flair']))):\n",
        "    mapping_dict[f] = i\n",
        "\n",
        "y_train_tensor = torch.LongTensor(y_train.map(mapping_dict).values)\n",
        "y_test_tensor = torch.LongTensor(y_test.map(mapping_dict).values)"
      ],
      "metadata": {
        "id": "QPwEL9mEcT8h"
      },
      "execution_count": 7,
      "outputs": []
    },
    {
      "cell_type": "markdown",
      "source": [
        "Save the tensors"
      ],
      "metadata": {
        "id": "FFZKFyLBc35r"
      }
    },
    {
      "cell_type": "code",
      "source": [
        "torch.save(X_train_tensor, 'X_train.pt')\n",
        "torch.save(X_test_tensor, 'X_test.pt')\n",
        "torch.save(y_train_tensor, 'y_train.pt')\n",
        "torch.save(y_test_tensor, 'y_test.pt')"
      ],
      "metadata": {
        "execution": {
          "iopub.status.busy": "2022-01-08T16:50:35.742262Z",
          "iopub.execute_input": "2022-01-08T16:50:35.74254Z",
          "iopub.status.idle": "2022-01-08T16:50:35.896353Z",
          "shell.execute_reply.started": "2022-01-08T16:50:35.742511Z",
          "shell.execute_reply": "2022-01-08T16:50:35.895588Z"
        },
        "trusted": true,
        "id": "4iE3RXQDHWw3"
      },
      "execution_count": 21,
      "outputs": []
    },
    {
      "cell_type": "markdown",
      "source": [
        "Create a single neural network model with no hidden layers. The model consists of the following functions: <br>\n",
        "* `__init__`: This is where you define layers that make up the model\n",
        "* `forward`: Used to put all the layers that an input goes through"
      ],
      "metadata": {
        "id": "bWSiUc0Ic_qV"
      }
    },
    {
      "cell_type": "code",
      "source": [
        "class SingleNN(nn.Module):\n",
        "    def __init__(self, input_size, output_size):\n",
        "        super().__init__()\n",
        "        self.fc = nn.Linear(input_size, output_size, bias=False)\n",
        "        nn.init.normal_(self.fc.weight, 0.0, 1.0)\n",
        "  \n",
        "    def forward(self,x):\n",
        "        x = self.fc(x)\n",
        "        return x"
      ],
      "metadata": {
        "execution": {
          "iopub.status.busy": "2022-01-08T16:51:06.905815Z",
          "iopub.execute_input": "2022-01-08T16:51:06.906102Z",
          "iopub.status.idle": "2022-01-08T16:51:06.913256Z",
          "shell.execute_reply.started": "2022-01-08T16:51:06.906071Z",
          "shell.execute_reply": "2022-01-08T16:51:06.912195Z"
        },
        "trusted": true,
        "id": "wKCqAXJ3HWw3"
      },
      "execution_count": 33,
      "outputs": []
    },
    {
      "cell_type": "markdown",
      "source": [
        "Initialize the model just created with appropriate arguments. Let's also define the criterion that computes the cross entropy loss between input and target."
      ],
      "metadata": {
        "id": "YtX3pddyePGv"
      }
    },
    {
      "cell_type": "code",
      "source": [
        "model = SingleNN(input_size=X_train_tensor.size()[1], output_size=len(set(df['Flair'])))\n",
        "criterion = nn.CrossEntropyLoss()\n",
        "model"
      ],
      "metadata": {
        "execution": {
          "iopub.status.busy": "2022-01-08T16:51:23.497677Z",
          "iopub.execute_input": "2022-01-08T16:51:23.498428Z",
          "iopub.status.idle": "2022-01-08T16:51:23.521388Z",
          "shell.execute_reply.started": "2022-01-08T16:51:23.498389Z",
          "shell.execute_reply": "2022-01-08T16:51:23.520639Z"
        },
        "trusted": true,
        "id": "czpqUoF1HWw3",
        "colab": {
          "base_uri": "https://localhost:8080/"
        },
        "outputId": "7544dae6-3486-4e2e-bb8f-a32ca3fbbfea"
      },
      "execution_count": 34,
      "outputs": [
        {
          "output_type": "execute_result",
          "data": {
            "text/plain": [
              "SingleNN(\n",
              "  (fc): Linear(in_features=300, out_features=5, bias=False)\n",
              ")"
            ]
          },
          "metadata": {},
          "execution_count": 34
        }
      ]
    },
    {
      "cell_type": "markdown",
      "source": [
        "I will use the Adam optimizer, which is defined below."
      ],
      "metadata": {
        "id": "xeFoKI8nfe7W"
      }
    },
    {
      "cell_type": "code",
      "source": [
        "optimizer = torch.optim.Adam(model.parameters(), lr=0.01)"
      ],
      "metadata": {
        "execution": {
          "iopub.status.busy": "2022-01-08T16:51:27.037783Z",
          "iopub.execute_input": "2022-01-08T16:51:27.038305Z",
          "iopub.status.idle": "2022-01-08T16:51:27.043594Z",
          "shell.execute_reply.started": "2022-01-08T16:51:27.038254Z",
          "shell.execute_reply": "2022-01-08T16:51:27.042683Z"
        },
        "trusted": true,
        "id": "2_2AqTPuHWw4"
      },
      "execution_count": 36,
      "outputs": []
    },
    {
      "cell_type": "markdown",
      "source": [
        "Let's train the model for 300 epochs and see how accurate it can be in predicting the flair given a text."
      ],
      "metadata": {
        "id": "9aGIELZIfmre"
      }
    },
    {
      "cell_type": "code",
      "source": [
        "epochs = 300\n",
        "losses = []\n",
        "\n",
        "for i in range(epochs):\n",
        "    i+=1\n",
        "    y_pred = model(X_train_tensor)\n",
        "    loss = criterion(y_pred, y_train_tensor)\n",
        "    losses.append(loss)\n",
        "\n",
        "    optimizer.zero_grad()\n",
        "    loss.backward()\n",
        "    optimizer.step()\n",
        "    \n",
        "    if i%10 == 1:\n",
        "        print(f'epoch: {i:3}  train_loss: {loss.item():10.8f}')"
      ],
      "metadata": {
        "execution": {
          "iopub.status.busy": "2022-01-08T16:51:29.502292Z",
          "iopub.execute_input": "2022-01-08T16:51:29.502915Z",
          "iopub.status.idle": "2022-01-08T16:51:35.276453Z",
          "shell.execute_reply.started": "2022-01-08T16:51:29.502875Z",
          "shell.execute_reply": "2022-01-08T16:51:35.27567Z"
        },
        "trusted": true,
        "id": "SoTXYoVZHWw4",
        "colab": {
          "base_uri": "https://localhost:8080/"
        },
        "outputId": "002c7dfb-3f25-4f2c-9691-f2b1960867d0"
      },
      "execution_count": 37,
      "outputs": [
        {
          "output_type": "stream",
          "name": "stdout",
          "text": [
            "epoch:   1  train_loss: 3.11172533\n",
            "epoch:  11  train_loss: 1.92458272\n",
            "epoch:  21  train_loss: 1.72635281\n",
            "epoch:  31  train_loss: 1.58440399\n",
            "epoch:  41  train_loss: 1.47333884\n",
            "epoch:  51  train_loss: 1.38817143\n",
            "epoch:  61  train_loss: 1.32548523\n",
            "epoch:  71  train_loss: 1.27735162\n",
            "epoch:  81  train_loss: 1.23779070\n",
            "epoch:  91  train_loss: 1.20507312\n",
            "epoch: 101  train_loss: 1.17764080\n",
            "epoch: 111  train_loss: 1.15423656\n",
            "epoch: 121  train_loss: 1.13405037\n",
            "epoch: 131  train_loss: 1.11645401\n",
            "epoch: 141  train_loss: 1.10097873\n",
            "epoch: 151  train_loss: 1.08726418\n",
            "epoch: 161  train_loss: 1.07502723\n",
            "epoch: 171  train_loss: 1.06404495\n",
            "epoch: 181  train_loss: 1.05413842\n",
            "epoch: 191  train_loss: 1.04516160\n",
            "epoch: 201  train_loss: 1.03699076\n",
            "epoch: 211  train_loss: 1.02952099\n",
            "epoch: 221  train_loss: 1.02266288\n",
            "epoch: 231  train_loss: 1.01634169\n",
            "epoch: 241  train_loss: 1.01049519\n",
            "epoch: 251  train_loss: 1.00507116\n",
            "epoch: 261  train_loss: 1.00002444\n",
            "epoch: 271  train_loss: 0.99531740\n",
            "epoch: 281  train_loss: 0.99091768\n",
            "epoch: 291  train_loss: 0.98679614\n"
          ]
        }
      ]
    },
    {
      "cell_type": "code",
      "source": [
        "rows = len(y_test_tensor)\n",
        "correct = 0\n",
        "\n",
        "with torch.no_grad():\n",
        "    y_val = model(X_test_tensor)\n",
        "\n",
        "for i in range(rows):\n",
        "    if y_val[i].argmax().item() == y_test_tensor[i]:\n",
        "        correct += 1\n",
        "        \n",
        "print('{}% correct'.format(round(100*correct/rows), 2))"
      ],
      "metadata": {
        "execution": {
          "iopub.status.busy": "2022-01-08T16:55:00.577575Z",
          "iopub.execute_input": "2022-01-08T16:55:00.578066Z",
          "iopub.status.idle": "2022-01-08T16:55:00.58503Z",
          "shell.execute_reply.started": "2022-01-08T16:55:00.578026Z",
          "shell.execute_reply": "2022-01-08T16:55:00.583917Z"
        },
        "trusted": true,
        "id": "wEbr60tlHWw4",
        "colab": {
          "base_uri": "https://localhost:8080/"
        },
        "outputId": "df909d0a-de1c-494d-d117-af2ff16ee5e9"
      },
      "execution_count": 38,
      "outputs": [
        {
          "output_type": "stream",
          "name": "stdout",
          "text": [
            "61% correct\n"
          ]
        }
      ]
    },
    {
      "cell_type": "markdown",
      "source": [
        "It turned out that the performance of the single-layer NN model is actually worse than the logistic regression and LinearSVC models."
      ],
      "metadata": {
        "id": "--zFHiONgw0s"
      }
    },
    {
      "cell_type": "markdown",
      "source": [
        "### multi-layer neural network"
      ],
      "metadata": {
        "id": "NnZL9839HWw4"
      }
    },
    {
      "cell_type": "code",
      "source": [
        "X_train_tensor = torch.load('X_train.pt')\n",
        "y_train_tensor = torch.load('y_train.pt')\n",
        "X_test_tensor = torch.load('X_test.pt')\n",
        "y_test_tensor = torch.load('y_test.pt')"
      ],
      "metadata": {
        "id": "QCozCN2_h86d"
      },
      "execution_count": 12,
      "outputs": []
    },
    {
      "cell_type": "code",
      "source": [
        "class RedditDataset(Dataset):\n",
        "    def __init__(self, X, y):  # define dataset components\n",
        "        self.X = X\n",
        "        self.y = y\n",
        "\n",
        "    def __len__(self):  # define value returned by len(dataset)\n",
        "        return len(self.y)\n",
        "\n",
        "    def __getitem__(self, idx):  # define value returned by dataset[idx]\n",
        "        return [self.X[idx], self.y[idx]]"
      ],
      "metadata": {
        "execution": {
          "iopub.status.busy": "2022-01-08T17:12:29.611643Z",
          "iopub.execute_input": "2022-01-08T17:12:29.612307Z",
          "iopub.status.idle": "2022-01-08T17:12:29.618054Z",
          "shell.execute_reply.started": "2022-01-08T17:12:29.612266Z",
          "shell.execute_reply": "2022-01-08T17:12:29.616993Z"
        },
        "trusted": true,
        "id": "LgNcWDxSHWw5"
      },
      "execution_count": 13,
      "outputs": []
    },
    {
      "cell_type": "code",
      "source": [
        "dataset_train = RedditDataset(X_train_tensor, y_train_tensor)\n",
        "dataset_test = RedditDataset(X_test_tensor, y_test_tensor)"
      ],
      "metadata": {
        "execution": {
          "iopub.status.busy": "2022-01-08T17:13:11.724666Z",
          "iopub.execute_input": "2022-01-08T17:13:11.725291Z",
          "iopub.status.idle": "2022-01-08T17:13:11.729781Z",
          "shell.execute_reply.started": "2022-01-08T17:13:11.725251Z",
          "shell.execute_reply": "2022-01-08T17:13:11.728855Z"
        },
        "trusted": true,
        "id": "0UNbqB-dHWw5"
      },
      "execution_count": 13,
      "outputs": []
    },
    {
      "cell_type": "code",
      "source": [
        "dataloader_train = DataLoader(dataset_train, batch_size=1, shuffle=True)\n",
        "dataloader_test = DataLoader(dataset_test, batch_size=len(dataset_test), shuffle=False)"
      ],
      "metadata": {
        "execution": {
          "iopub.status.busy": "2022-01-08T17:13:40.92581Z",
          "iopub.execute_input": "2022-01-08T17:13:40.926125Z",
          "iopub.status.idle": "2022-01-08T17:13:40.931528Z",
          "shell.execute_reply.started": "2022-01-08T17:13:40.92609Z",
          "shell.execute_reply": "2022-01-08T17:13:40.930698Z"
        },
        "trusted": true,
        "id": "z188rBmDHWw5"
      },
      "execution_count": 14,
      "outputs": []
    },
    {
      "cell_type": "code",
      "source": [
        "class MLPNet(nn.Module):\n",
        "    def __init__(self, input_size, mid_size, output_size, mid_layers):\n",
        "        super().__init__()\n",
        "        self.mid_layers = mid_layers\n",
        "        self.fc = nn.Linear(input_size, mid_size)\n",
        "        self.fc_mid = nn.Linear(mid_size, mid_size)\n",
        "        self.fc_out = nn.Linear(mid_size, output_size) \n",
        "        self.bn = nn.BatchNorm1d(mid_size)\n",
        "\n",
        "    def forward(self, x):\n",
        "        x = F.relu(self.fc(x))\n",
        "        for _ in range(self.mid_layers):\n",
        "            x = F.relu(self.bn(self.fc_mid(x)))\n",
        "            x = F.relu(self.fc_out(x))\n",
        "        return x"
      ],
      "metadata": {
        "execution": {
          "iopub.status.busy": "2022-01-08T17:07:05.928756Z",
          "iopub.execute_input": "2022-01-08T17:07:05.929389Z",
          "iopub.status.idle": "2022-01-08T17:07:05.939269Z",
          "shell.execute_reply.started": "2022-01-08T17:07:05.929349Z",
          "shell.execute_reply": "2022-01-08T17:07:05.938471Z"
        },
        "trusted": true,
        "id": "10ObdIYHHWw5"
      },
      "execution_count": 17,
      "outputs": []
    },
    {
      "cell_type": "code",
      "source": [
        "def train_model(dataset_train, batch_size, model, criterion, optimizer, num_epochs, device=None):\n",
        "    model.to(device)\n",
        "    \n",
        "    dataloader_train = DataLoader(dataset_train, batch_size=batch_size, shuffle=True)\n",
        "    \n",
        "    log_train = []\n",
        "    for epoch in range(num_epochs):\n",
        "        model.train()\n",
        "        for inputs, labels in dataloader_train:\n",
        "            optimizer.zero_grad()\n",
        "            \n",
        "            inputs = inputs.to(device)\n",
        "            labels = labels.to(device)\n",
        "            outputs = model.forward(inputs)\n",
        "            loss = criterion(outputs, labels)\n",
        "            loss.backward()\n",
        "            optimizer.step()\n",
        "        \n",
        "        model.eval()\n",
        "        loss = 0.0\n",
        "        with torch.no_grad():\n",
        "            for inputs, labels in dataloader_train:\n",
        "                inputs = inputs.to(device)\n",
        "                labels = labels.to(device)\n",
        "                outputs = model(inputs)\n",
        "                loss += criterion(outputs, labels).item()\n",
        "        \n",
        "        if epoch%10 == 1:\n",
        "            print(f'epoch: {epoch:3}  train_loss: {loss / len(dataloader_train):10.8f}')"
      ],
      "metadata": {
        "execution": {
          "iopub.status.busy": "2022-01-08T17:38:38.73374Z",
          "iopub.execute_input": "2022-01-08T17:38:38.734446Z",
          "iopub.status.idle": "2022-01-08T17:38:38.744482Z",
          "shell.execute_reply.started": "2022-01-08T17:38:38.734396Z",
          "shell.execute_reply": "2022-01-08T17:38:38.743394Z"
        },
        "trusted": true,
        "id": "FAaWOhS5HWw5"
      },
      "execution_count": 16,
      "outputs": []
    },
    {
      "cell_type": "code",
      "source": [
        "model = MLPNet(300, 200, 5, 1)\n",
        "\n",
        "criterion = nn.CrossEntropyLoss()\n",
        "\n",
        "optimizer = torch.optim.SGD(model.parameters(), lr=1e-3)\n",
        "\n",
        "device = torch.device('cuda')\n",
        "\n",
        "train_model(dataset_train, 64, model, criterion, optimizer, 300, device)"
      ],
      "metadata": {
        "execution": {
          "iopub.status.busy": "2022-01-08T17:38:43.395429Z",
          "iopub.execute_input": "2022-01-08T17:38:43.395828Z",
          "iopub.status.idle": "2022-01-08T17:45:56.686353Z",
          "shell.execute_reply.started": "2022-01-08T17:38:43.39579Z",
          "shell.execute_reply": "2022-01-08T17:45:56.68555Z"
        },
        "trusted": true,
        "id": "lSvOdQZ9HWw6",
        "colab": {
          "base_uri": "https://localhost:8080/"
        },
        "outputId": "32abe958-23c2-4881-88f5-d517028a7d40"
      },
      "execution_count": 17,
      "outputs": [
        {
          "output_type": "stream",
          "name": "stdout",
          "text": [
            "epoch:   1  train_loss: 1.14845827\n",
            "epoch:  11  train_loss: 0.95635212\n",
            "epoch:  21  train_loss: 0.85616705\n",
            "epoch:  31  train_loss: 0.81914502\n",
            "epoch:  41  train_loss: 0.79277100\n",
            "epoch:  51  train_loss: 0.77015336\n",
            "epoch:  61  train_loss: 0.74393440\n",
            "epoch:  71  train_loss: 0.73458261\n",
            "epoch:  81  train_loss: 0.70699901\n",
            "epoch:  91  train_loss: 0.68641639\n",
            "epoch: 101  train_loss: 0.66804885\n",
            "epoch: 111  train_loss: 0.64681276\n",
            "epoch: 121  train_loss: 0.64427999\n",
            "epoch: 131  train_loss: 0.63243924\n",
            "epoch: 141  train_loss: 0.58860055\n",
            "epoch: 151  train_loss: 0.62773294\n",
            "epoch: 161  train_loss: 0.72972090\n",
            "epoch: 171  train_loss: 0.53154344\n",
            "epoch: 181  train_loss: 0.52185909\n",
            "epoch: 191  train_loss: 0.50204284\n",
            "epoch: 201  train_loss: 0.50308058\n",
            "epoch: 211  train_loss: 0.57398009\n",
            "epoch: 221  train_loss: 0.59914126\n",
            "epoch: 231  train_loss: 0.92456835\n",
            "epoch: 241  train_loss: 0.93499638\n",
            "epoch: 251  train_loss: 0.42159855\n",
            "epoch: 261  train_loss: 0.41018030\n",
            "epoch: 271  train_loss: 0.56280793\n",
            "epoch: 281  train_loss: 0.42378032\n",
            "epoch: 291  train_loss: 0.35583256\n"
          ]
        }
      ]
    },
    {
      "cell_type": "code",
      "source": [
        "def calculate_accuracy(model, loader, device):\n",
        "    model.eval()\n",
        "    total = 0\n",
        "    correct = 0\n",
        "    with torch.no_grad():\n",
        "        for inputs, labels in loader:\n",
        "            inputs = inputs.to(device)\n",
        "            labels = labels.to(device)\n",
        "            outputs = model(inputs)\n",
        "            pred = torch.argmax(outputs, dim=-1)\n",
        "            total += len(inputs)\n",
        "            correct += (pred == labels).sum().item()\n",
        "    return correct / total"
      ],
      "metadata": {
        "execution": {
          "iopub.status.busy": "2022-01-08T17:48:26.157135Z",
          "iopub.execute_input": "2022-01-08T17:48:26.158015Z",
          "iopub.status.idle": "2022-01-08T17:48:26.166979Z",
          "shell.execute_reply.started": "2022-01-08T17:48:26.157973Z",
          "shell.execute_reply": "2022-01-08T17:48:26.166134Z"
        },
        "trusted": true,
        "id": "DpJdtjpQHWw6"
      },
      "execution_count": 18,
      "outputs": []
    },
    {
      "cell_type": "code",
      "source": [
        "train_accuracy = calculate_accuracy(model, dataloader_train, device)\n",
        "test_accuracy = calculate_accuracy(model, dataloader_test, device)\n",
        "print('{}% correct'.format(round(100*test_accuracy, 2)))"
      ],
      "metadata": {
        "execution": {
          "iopub.status.busy": "2022-01-08T17:56:34.350273Z",
          "iopub.execute_input": "2022-01-08T17:56:34.350662Z",
          "iopub.status.idle": "2022-01-08T17:56:35.086053Z",
          "shell.execute_reply.started": "2022-01-08T17:56:34.350605Z",
          "shell.execute_reply": "2022-01-08T17:56:35.085264Z"
        },
        "trusted": true,
        "id": "Kj_Rr5w7HWw6",
        "colab": {
          "base_uri": "https://localhost:8080/"
        },
        "outputId": "3a9ece73-295b-43f4-96e6-20d37b523772"
      },
      "execution_count": 19,
      "outputs": [
        {
          "output_type": "stream",
          "name": "stdout",
          "text": [
            "61.46% correct\n"
          ]
        }
      ]
    },
    {
      "cell_type": "markdown",
      "source": [
        "The results were pretty much the same as the other models. I suspect that's because the dataset contains uneven numbers of posts per flair - The two most frequent flairs ('rant/rave' and 'discussion') make up 70% of the dataset. Perhaps the model has learned to predict either of the two flairs for every prediction. <br>\n",
        "In the future, I should make this dataset more even or pick a dataset with more distinctive categories (there are lots of overlaps between flairs in terms of the content). But it has been a great exercise to get myself more falimiar with a variety of machine learning models. "
      ],
      "metadata": {
        "id": "v3H2udZRpG7a"
      }
    },
    {
      "cell_type": "code",
      "source": [
        "df['Flair'].value_counts()"
      ],
      "metadata": {
        "colab": {
          "base_uri": "https://localhost:8080/"
        },
        "id": "olB-xEuPzwI0",
        "outputId": "41299075-0122-4447-8edb-e0fb6011957b"
      },
      "execution_count": 24,
      "outputs": [
        {
          "output_type": "execute_result",
          "data": {
            "text/plain": [
              "rant/rave     19770\n",
              "discussion    13444\n",
              "help           9687\n",
              "goal           2375\n",
              "thinspo        2191\n",
              "Name: Flair, dtype: int64"
            ]
          },
          "metadata": {},
          "execution_count": 24
        }
      ]
    },
    {
      "cell_type": "markdown",
      "source": [
        "That's it for Part 3 - thanks for tagging along! "
      ],
      "metadata": {
        "id": "o1Lc-cLH08yo"
      }
    }
  ]
}