{
  "cells": [
    {
      "cell_type": "markdown",
      "id": "6c154e72",
      "metadata": {
        "id": "6c154e72"
      },
      "source": [
        "## Topic modelling and sentiment analysis on the comments on LoFi Hip Hop videos on youtube (Part 1)\n",
        "\n",
        "Part 1 of this project crawls through the comments of some of the popular lo-fi videos, and creates a dataset to be analyzed in later parts. The code for scraping was adapted from this article: [How to Scrape Youtube Comments with Python](https://towardsdatascience.com/how-to-scrape-youtube-comments-with-python-61ff197115d4)."
      ]
    },
    {
      "cell_type": "markdown",
      "id": "57468804",
      "metadata": {
        "id": "57468804"
      },
      "source": [
        "### required packages"
      ]
    },
    {
      "cell_type": "code",
      "source": [
        "!pip install selenium\n",
        "!pip install langdetect\n",
        "!python -m spacy download en_core_web_md | grep -v 'already satisfied'"
      ],
      "metadata": {
        "id": "9MiljDnMnBkB"
      },
      "id": "9MiljDnMnBkB",
      "execution_count": null,
      "outputs": []
    },
    {
      "cell_type": "code",
      "execution_count": 1,
      "id": "846f96ad",
      "metadata": {
        "id": "846f96ad",
        "colab": {
          "base_uri": "https://localhost:8080/"
        },
        "outputId": "2d6aae39-564e-4e82-a01f-55b80828e5d1"
      },
      "outputs": [
        {
          "output_type": "stream",
          "name": "stdout",
          "text": [
            "[nltk_data] Downloading package stopwords to /root/nltk_data...\n",
            "[nltk_data]   Unzipping corpora/stopwords.zip.\n"
          ]
        },
        {
          "output_type": "stream",
          "name": "stderr",
          "text": [
            "/usr/local/lib/python3.7/dist-packages/requests/__init__.py:91: RequestsDependencyWarning: urllib3 (1.26.8) or chardet (3.0.4) doesn't match a supported version!\n",
            "  RequestsDependencyWarning)\n"
          ]
        }
      ],
      "source": [
        "import re\n",
        "import glob\n",
        "import time\n",
        "import pandas as pd\n",
        "from tqdm import tqdm\n",
        "from selenium.webdriver import Chrome\n",
        "from selenium.webdriver.common.by import By\n",
        "from selenium.webdriver.common.keys import Keys\n",
        "from selenium.webdriver.support.ui import WebDriverWait\n",
        "from selenium.webdriver.support import expected_conditions as EC\n",
        "from langdetect import detect\n",
        "\n",
        "import nltk\n",
        "nltk.download('stopwords')\n",
        "from nltk.corpus import stopwords\n",
        "import string\n",
        "import spacy\n",
        "nlp = spacy.load(\"en_core_web_md\")"
      ]
    },
    {
      "cell_type": "code",
      "source": [
        "from google.colab import drive\n",
        "drive.mount('/content/drive')"
      ],
      "metadata": {
        "colab": {
          "base_uri": "https://localhost:8080/"
        },
        "id": "BqOZRdv9njII",
        "outputId": "266e3f29-a26f-464c-d5a3-429b6e63a380"
      },
      "id": "BqOZRdv9njII",
      "execution_count": 2,
      "outputs": [
        {
          "output_type": "stream",
          "name": "stdout",
          "text": [
            "Mounted at /content/drive\n"
          ]
        }
      ]
    },
    {
      "cell_type": "markdown",
      "id": "beea5b34",
      "metadata": {
        "id": "beea5b34"
      },
      "source": [
        "I also downloaded [Chromedriver](https://chromedriver.chromium.org/downloads) and put the executable in the same directory as this notebook."
      ]
    },
    {
      "cell_type": "markdown",
      "id": "d1aa1f45",
      "metadata": {
        "id": "d1aa1f45"
      },
      "source": [
        "### scraping\n",
        "\n",
        "I scraped 12,391 comments from about 15 videos, mostly by [Lofi Girl](https://www.youtube.com/channel/UCSJ4gkVC6NrvII8umztf0Ow) and [Feardog Music](https://www.youtube.com/c/FeardogMusic). <br>\n",
        "\n",
        "The function used to scrape comments and save them as a csv file is shown below."
      ]
    },
    {
      "cell_type": "code",
      "execution_count": null,
      "id": "db11c21d",
      "metadata": {
        "id": "db11c21d"
      },
      "outputs": [],
      "source": [
        "def scrape_comments(URL):\n",
        "    with Chrome(executable_path=r'/Users/mahotaka/youtube_scraping/chromedriver') as driver:\n",
        "        data = []\n",
        "        wait = WebDriverWait(driver,15)\n",
        "        driver.get(\"https://youtu.be/{}\".format(URL))\n",
        "\n",
        "        for item in range(200): \n",
        "            wait.until(EC.visibility_of_element_located((By.TAG_NAME, \"body\"))).send_keys(Keys.END)\n",
        "            time.sleep(15)\n",
        "\n",
        "        for comment in wait.until(EC.presence_of_all_elements_located((By.CSS_SELECTOR, \"#content\"))):\n",
        "            data.append(comment.text)\n",
        "            \n",
        "        df = pd.DataFrame(data, columns=['comment'])\n",
        "        df = df.loc[df['comment'] != '']\n",
        "        df.to_csv('./{}.csv'.format(URL), index=False)"
      ]
    },
    {
      "cell_type": "code",
      "execution_count": null,
      "id": "11bee7f9",
      "metadata": {
        "id": "11bee7f9",
        "outputId": "d8cc48c6-197f-48bf-db41-bd63aa0395f4"
      },
      "outputs": [
        {
          "name": "stderr",
          "output_type": "stream",
          "text": [
            "<ipython-input-45-34ce7d5a52d8>:2: DeprecationWarning: executable_path has been deprecated, please pass in a Service object\n",
            "  with Chrome(executable_path=r'/Users/mahotaka/youtube_scraping/chromedriver') as driver:\n"
          ]
        }
      ],
      "source": [
        "scrape_comments('_tV5LEBDs7w')"
      ]
    },
    {
      "cell_type": "markdown",
      "source": [
        "Put the comment datasets together, drop rows with duplicate values, and save the combined dataset "
      ],
      "metadata": {
        "id": "FS1YeV7xS9ne"
      },
      "id": "FS1YeV7xS9ne"
    },
    {
      "cell_type": "code",
      "execution_count": null,
      "id": "0a9ebfcb",
      "metadata": {
        "id": "0a9ebfcb"
      },
      "outputs": [],
      "source": [
        "df = pd.DataFrame()\n",
        "\n",
        "for f in glob.glob(\"./*.csv\"):\n",
        "    df1 = pd.read_csv(f)\n",
        "    df = df.append(df1)\n",
        "\n",
        "df = df.drop_duplicates(subset='comment', keep=\"first\")\n",
        "df = df.loc[df['comment'].str.contains('SKIP NAVIGATION') == False]\n",
        "df.reset_index(drop=True, inplace=True)\n",
        "print(len(df))\n",
        "\n",
        "df.to_csv('./comments.csv', index=False)"
      ]
    },
    {
      "cell_type": "markdown",
      "id": "015f2573",
      "metadata": {
        "id": "015f2573"
      },
      "source": [
        "### pre-processing\n",
        "I will tidy up the dataset to make it suitable for further processing.\n",
        "\n",
        "#### remove non-English comments"
      ]
    },
    {
      "cell_type": "code",
      "execution_count": 5,
      "id": "b50a88b8",
      "metadata": {
        "colab": {
          "base_uri": "https://localhost:8080/"
        },
        "id": "b50a88b8",
        "outputId": "553b6760-0aea-4e5d-b41e-1da504151b59"
      },
      "outputs": [
        {
          "output_type": "execute_result",
          "data": {
            "text/plain": [
              "12391"
            ]
          },
          "metadata": {},
          "execution_count": 5
        }
      ],
      "source": [
        "df = pd.read_csv('/content/drive/MyDrive/Colab_Notebooks/comments.csv')\n",
        "df = df.iloc[:, 1:]\n",
        "len(df)"
      ]
    },
    {
      "cell_type": "code",
      "source": [
        "tqdm.pandas()\n",
        "\n",
        "def detect_en(x):\n",
        "  try:\n",
        "    return detect(x)\n",
        "  except:\n",
        "    y = 'n/a'\n",
        "    return y\n",
        "\n",
        "df['English'] = df['comment'].progress_apply(lambda x: detect_en(x))"
      ],
      "metadata": {
        "colab": {
          "base_uri": "https://localhost:8080/"
        },
        "id": "50K6i_zisMYy",
        "outputId": "d709e261-dc16-4a41-f68a-0e4d71d7ff40"
      },
      "id": "50K6i_zisMYy",
      "execution_count": 5,
      "outputs": [
        {
          "output_type": "stream",
          "name": "stderr",
          "text": [
            "100%|██████████| 12391/12391 [01:35<00:00, 129.51it/s]\n"
          ]
        }
      ]
    },
    {
      "cell_type": "code",
      "source": [
        "df_en = df.loc[df['English'] == 'en']\n",
        "len(df_en)"
      ],
      "metadata": {
        "colab": {
          "base_uri": "https://localhost:8080/"
        },
        "id": "RL9A-qJasoIX",
        "outputId": "b782f850-3cbe-47e6-8e8a-2a6fe07ec9d4"
      },
      "id": "RL9A-qJasoIX",
      "execution_count": 6,
      "outputs": [
        {
          "output_type": "execute_result",
          "data": {
            "text/plain": [
              "10521"
            ]
          },
          "metadata": {},
          "execution_count": 6
        }
      ]
    },
    {
      "cell_type": "markdown",
      "source": [
        "Save the English-only dataset"
      ],
      "metadata": {
        "id": "3rS63pmkP7eE"
      },
      "id": "3rS63pmkP7eE"
    },
    {
      "cell_type": "code",
      "source": [
        "df = df_en.drop(['English'], axis=1)\n",
        "df.to_csv('./comments_en.csv')"
      ],
      "metadata": {
        "id": "5s-RtUErvowV"
      },
      "id": "5s-RtUErvowV",
      "execution_count": 6,
      "outputs": []
    },
    {
      "cell_type": "markdown",
      "source": [
        "#### make letters lower case, and remove stopwords & punctuation"
      ],
      "metadata": {
        "id": "xi5OLB5dNCYT"
      },
      "id": "xi5OLB5dNCYT"
    },
    {
      "cell_type": "code",
      "source": [
        "df = pd.read_csv('/content/drive/MyDrive/Colab_Notebooks/comments_en.csv')\n",
        "df = df.iloc[:, 1:]\n",
        "df.head()"
      ],
      "metadata": {
        "colab": {
          "base_uri": "https://localhost:8080/",
          "height": 206
        },
        "id": "MN_pDMYqMOa9",
        "outputId": "78b6ac15-3a28-4477-e3b9-ddb25e66a876"
      },
      "id": "MN_pDMYqMOa9",
      "execution_count": 9,
      "outputs": [
        {
          "output_type": "execute_result",
          "data": {
            "text/html": [
              "\n",
              "  <div id=\"df-33c4a306-5dc9-491c-b98c-a6e20a92d484\">\n",
              "    <div class=\"colab-df-container\">\n",
              "      <div>\n",
              "<style scoped>\n",
              "    .dataframe tbody tr th:only-of-type {\n",
              "        vertical-align: middle;\n",
              "    }\n",
              "\n",
              "    .dataframe tbody tr th {\n",
              "        vertical-align: top;\n",
              "    }\n",
              "\n",
              "    .dataframe thead th {\n",
              "        text-align: right;\n",
              "    }\n",
              "</style>\n",
              "<table border=\"1\" class=\"dataframe\">\n",
              "  <thead>\n",
              "    <tr style=\"text-align: right;\">\n",
              "      <th></th>\n",
              "      <th>comment</th>\n",
              "    </tr>\n",
              "  </thead>\n",
              "  <tbody>\n",
              "    <tr>\n",
              "      <th>0</th>\n",
              "      <td>✔️ | This music is free to use in your livestr...</td>\n",
              "    </tr>\n",
              "    <tr>\n",
              "      <th>1</th>\n",
              "      <td>January is half-way done and it is time for an...</td>\n",
              "    </tr>\n",
              "    <tr>\n",
              "      <th>2</th>\n",
              "      <td>study girl has such a chill life these days</td>\n",
              "    </tr>\n",
              "    <tr>\n",
              "      <th>3</th>\n",
              "      <td>We're actually planning a lofi sound bath! Tha...</td>\n",
              "    </tr>\n",
              "    <tr>\n",
              "      <th>4</th>\n",
              "      <td>If you’re trying to rest, put your device away...</td>\n",
              "    </tr>\n",
              "  </tbody>\n",
              "</table>\n",
              "</div>\n",
              "      <button class=\"colab-df-convert\" onclick=\"convertToInteractive('df-33c4a306-5dc9-491c-b98c-a6e20a92d484')\"\n",
              "              title=\"Convert this dataframe to an interactive table.\"\n",
              "              style=\"display:none;\">\n",
              "        \n",
              "  <svg xmlns=\"http://www.w3.org/2000/svg\" height=\"24px\"viewBox=\"0 0 24 24\"\n",
              "       width=\"24px\">\n",
              "    <path d=\"M0 0h24v24H0V0z\" fill=\"none\"/>\n",
              "    <path d=\"M18.56 5.44l.94 2.06.94-2.06 2.06-.94-2.06-.94-.94-2.06-.94 2.06-2.06.94zm-11 1L8.5 8.5l.94-2.06 2.06-.94-2.06-.94L8.5 2.5l-.94 2.06-2.06.94zm10 10l.94 2.06.94-2.06 2.06-.94-2.06-.94-.94-2.06-.94 2.06-2.06.94z\"/><path d=\"M17.41 7.96l-1.37-1.37c-.4-.4-.92-.59-1.43-.59-.52 0-1.04.2-1.43.59L10.3 9.45l-7.72 7.72c-.78.78-.78 2.05 0 2.83L4 21.41c.39.39.9.59 1.41.59.51 0 1.02-.2 1.41-.59l7.78-7.78 2.81-2.81c.8-.78.8-2.07 0-2.86zM5.41 20L4 18.59l7.72-7.72 1.47 1.35L5.41 20z\"/>\n",
              "  </svg>\n",
              "      </button>\n",
              "      \n",
              "  <style>\n",
              "    .colab-df-container {\n",
              "      display:flex;\n",
              "      flex-wrap:wrap;\n",
              "      gap: 12px;\n",
              "    }\n",
              "\n",
              "    .colab-df-convert {\n",
              "      background-color: #E8F0FE;\n",
              "      border: none;\n",
              "      border-radius: 50%;\n",
              "      cursor: pointer;\n",
              "      display: none;\n",
              "      fill: #1967D2;\n",
              "      height: 32px;\n",
              "      padding: 0 0 0 0;\n",
              "      width: 32px;\n",
              "    }\n",
              "\n",
              "    .colab-df-convert:hover {\n",
              "      background-color: #E2EBFA;\n",
              "      box-shadow: 0px 1px 2px rgba(60, 64, 67, 0.3), 0px 1px 3px 1px rgba(60, 64, 67, 0.15);\n",
              "      fill: #174EA6;\n",
              "    }\n",
              "\n",
              "    [theme=dark] .colab-df-convert {\n",
              "      background-color: #3B4455;\n",
              "      fill: #D2E3FC;\n",
              "    }\n",
              "\n",
              "    [theme=dark] .colab-df-convert:hover {\n",
              "      background-color: #434B5C;\n",
              "      box-shadow: 0px 1px 3px 1px rgba(0, 0, 0, 0.15);\n",
              "      filter: drop-shadow(0px 1px 2px rgba(0, 0, 0, 0.3));\n",
              "      fill: #FFFFFF;\n",
              "    }\n",
              "  </style>\n",
              "\n",
              "      <script>\n",
              "        const buttonEl =\n",
              "          document.querySelector('#df-33c4a306-5dc9-491c-b98c-a6e20a92d484 button.colab-df-convert');\n",
              "        buttonEl.style.display =\n",
              "          google.colab.kernel.accessAllowed ? 'block' : 'none';\n",
              "\n",
              "        async function convertToInteractive(key) {\n",
              "          const element = document.querySelector('#df-33c4a306-5dc9-491c-b98c-a6e20a92d484');\n",
              "          const dataTable =\n",
              "            await google.colab.kernel.invokeFunction('convertToInteractive',\n",
              "                                                     [key], {});\n",
              "          if (!dataTable) return;\n",
              "\n",
              "          const docLinkHtml = 'Like what you see? Visit the ' +\n",
              "            '<a target=\"_blank\" href=https://colab.research.google.com/notebooks/data_table.ipynb>data table notebook</a>'\n",
              "            + ' to learn more about interactive tables.';\n",
              "          element.innerHTML = '';\n",
              "          dataTable['output_type'] = 'display_data';\n",
              "          await google.colab.output.renderOutput(dataTable, element);\n",
              "          const docLink = document.createElement('div');\n",
              "          docLink.innerHTML = docLinkHtml;\n",
              "          element.appendChild(docLink);\n",
              "        }\n",
              "      </script>\n",
              "    </div>\n",
              "  </div>\n",
              "  "
            ],
            "text/plain": [
              "                                             comment\n",
              "0  ✔️ | This music is free to use in your livestr...\n",
              "1  January is half-way done and it is time for an...\n",
              "2       study girl has such a chill life these days \n",
              "3  We're actually planning a lofi sound bath! Tha...\n",
              "4  If you’re trying to rest, put your device away..."
            ]
          },
          "metadata": {},
          "execution_count": 9
        }
      ]
    },
    {
      "cell_type": "code",
      "source": [
        "tqdm.pandas()\n",
        "\n",
        "def process(text):\n",
        "    nopunc = [char for char in text if char not in string.punctuation]\n",
        "    nopunc = ''.join(nopunc)\n",
        "    clean = ' '.join(word.lower() for word in nopunc.split() if word.lower() not in stopwords.words('english'))\n",
        "    return clean\n",
        "\n",
        "df['comment'] = df['comment'].progress_apply(lambda x: process(x))"
      ],
      "metadata": {
        "colab": {
          "base_uri": "https://localhost:8080/"
        },
        "id": "hqKKCdLIMxAr",
        "outputId": "b4b01745-c638-4b79-da2e-3ae2dd2af164"
      },
      "id": "hqKKCdLIMxAr",
      "execution_count": 12,
      "outputs": [
        {
          "output_type": "stream",
          "name": "stderr",
          "text": [
            "100%|██████████| 10521/10521 [00:26<00:00, 394.81it/s]\n"
          ]
        }
      ]
    },
    {
      "cell_type": "markdown",
      "source": [
        "Save the cleaned dataset"
      ],
      "metadata": {
        "id": "XVEKmgAtSBVa"
      },
      "id": "XVEKmgAtSBVa"
    },
    {
      "cell_type": "code",
      "source": [
        "df.to_csv('./comments_en_clean.csv')"
      ],
      "metadata": {
        "id": "gWw920ZORSLq"
      },
      "id": "gWw920ZORSLq",
      "execution_count": 14,
      "outputs": []
    },
    {
      "cell_type": "markdown",
      "source": [
        "That's it for Part 1!"
      ],
      "metadata": {
        "id": "pPSmmJrYTZtf"
      },
      "id": "pPSmmJrYTZtf"
    }
  ],
  "metadata": {
    "kernelspec": {
      "display_name": "Python 3",
      "language": "python",
      "name": "python3"
    },
    "language_info": {
      "codemirror_mode": {
        "name": "ipython",
        "version": 3
      },
      "file_extension": ".py",
      "mimetype": "text/x-python",
      "name": "python",
      "nbconvert_exporter": "python",
      "pygments_lexer": "ipython3",
      "version": "3.8.8"
    },
    "colab": {
      "name": "scraping_lofivideo_comments.ipynb",
      "provenance": []
    }
  },
  "nbformat": 4,
  "nbformat_minor": 5
}